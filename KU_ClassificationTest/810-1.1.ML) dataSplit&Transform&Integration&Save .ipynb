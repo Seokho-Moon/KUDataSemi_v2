{
 "cells": [
  {
   "cell_type": "markdown",
   "id": "a52fd48d",
   "metadata": {},
   "source": [
    "# Import"
   ]
  },
  {
   "cell_type": "code",
   "execution_count": 1,
   "id": "663ba5fc",
   "metadata": {
    "ExecuteTime": {
     "end_time": "2022-10-05T07:51:51.538126Z",
     "start_time": "2022-10-05T07:51:50.369309Z"
    }
   },
   "outputs": [
    {
     "name": "stderr",
     "output_type": "stream",
     "text": [
      "c:\\Users\\korea\\anaconda3\\envs\\torch\\lib\\site-packages\\tqdm\\auto.py:22: TqdmWarning: IProgress not found. Please update jupyter and ipywidgets. See https://ipywidgets.readthedocs.io/en/stable/user_install.html\n",
      "  from .autonotebook import tqdm as notebook_tqdm\n"
     ]
    }
   ],
   "source": [
    "import os\n",
    "import sys\n",
    "import json\n",
    "import pandas as pd\n",
    "import numpy as np\n",
    "import torch\n",
    "import pickle\n",
    "import pathSetting\n",
    "import Parameter as P\n",
    "\n",
    "sys.path.append(\"../\")\n",
    "sys.path.append(\"../../\")\n",
    "sys.path.append(\"../../..\")\n",
    "\n",
    "from KETIToolDL.CLUSTTool.common import p1_integratedDataSaving as p1\n",
    "import getIntegrationData as gID"
   ]
  },
  {
   "cell_type": "code",
   "execution_count": null,
   "id": "d033f9a8",
   "metadata": {},
   "outputs": [],
   "source": []
  },
  {
   "cell_type": "markdown",
   "id": "2cfa3782",
   "metadata": {},
   "source": [
    "# 1. Data Split&Transform&Integration\n",
    "## 1-1. 3D Array Data Read"
   ]
  },
  {
   "cell_type": "code",
   "execution_count": 2,
   "id": "560f6c49",
   "metadata": {
    "ExecuteTime": {
     "end_time": "2022-10-05T07:51:52.125445Z",
     "start_time": "2022-10-05T07:51:51.996619Z"
    }
   },
   "outputs": [],
   "source": [
    "# 1. UCI HAR Data Read\n",
    "folderAddress = './data/'\n",
    "dataset_train_x = pickle.load(open(folderAddress + 'x_train.pkl', 'rb'))\n",
    "dataset_train_y = pickle.load(open(folderAddress + 'y_train.pkl', 'rb'))\n",
    "dataset_test_x = pickle.load(open(folderAddress + 'x_test.pkl', 'rb'))\n",
    "dataset_test_y = pickle.load(open(folderAddress + 'y_test.pkl', 'rb'))"
   ]
  },
  {
   "cell_type": "code",
   "execution_count": 3,
   "id": "0099ce5d",
   "metadata": {
    "ExecuteTime": {
     "end_time": "2022-10-05T07:51:52.773169Z",
     "start_time": "2022-10-05T07:51:52.763727Z"
    }
   },
   "outputs": [
    {
     "data": {
      "text/plain": [
       "((7352, 9, 128), (7352,))"
      ]
     },
     "execution_count": 3,
     "metadata": {},
     "output_type": "execute_result"
    }
   ],
   "source": [
    "# 1-1. train shape 확인\n",
    "dataset_train_x.shape, dataset_train_y.shape"
   ]
  },
  {
   "cell_type": "code",
   "execution_count": 4,
   "id": "d4d47711",
   "metadata": {
    "ExecuteTime": {
     "end_time": "2022-10-05T07:51:53.292267Z",
     "start_time": "2022-10-05T07:51:53.285938Z"
    }
   },
   "outputs": [
    {
     "data": {
      "text/plain": [
       "((2947, 9, 128), (2947,))"
      ]
     },
     "execution_count": 4,
     "metadata": {},
     "output_type": "execute_result"
    }
   ],
   "source": [
    "# 1-2. test shape 확인\n",
    "dataset_test_x.shape, dataset_test_y.shape"
   ]
  },
  {
   "cell_type": "code",
   "execution_count": null,
   "id": "82397f58",
   "metadata": {},
   "outputs": [],
   "source": []
  },
  {
   "cell_type": "markdown",
   "id": "a9936679",
   "metadata": {},
   "source": [
    "## 1-2. Basic Setting"
   ]
  },
  {
   "cell_type": "code",
   "execution_count": 5,
   "id": "075edb01",
   "metadata": {
    "ExecuteTime": {
     "end_time": "2022-10-05T07:51:55.638482Z",
     "start_time": "2022-10-05T07:51:55.553474Z"
    }
   },
   "outputs": [
    {
     "name": "stdout",
     "output_type": "stream",
     "text": [
      "cuda is available.\n"
     ]
    }
   ],
   "source": [
    "# 2. Basic Setting\n",
    "dataModeList = ['trainX', 'trainy', 'testX', 'testy']\n",
    "transformModeList = ['splitAndTransform', 'onlyTransform']\n",
    "\n",
    "# 2-1. 변형 및 통합을 원하는 데이터 모드 선택\n",
    "dataModeX = dataModeList[0]\n",
    "dataModey = dataModeList[1]\n",
    "\n",
    "# 2-2. 분할 및 변형 방법 모드 선택 : train/test 둘 다 X데이터일때만 선택\n",
    "if (dataModeX == \"trainX\") | (dataModeX == \"testX\"):\n",
    "    transformMode = transformModeList[0]\n",
    "\n",
    "# 2-3. set parameter\n",
    "trainStartTime = \"2022-01-01\"\n",
    "testStartTime = \"2022-02-01\"\n",
    "integration_method = \"ML\" #ML/meta\n",
    "window_size = 128 # ML 통합 시 필요한것으로 rnn ae 학습 시 활용되는 window size. 데이터 split&transform 했을때 하나의 데이터 길이(데이터셋 길이가 아닌)\n",
    "sliding_size = 128 # rnn\n",
    "\n",
    "intParam = P.setParameter(integration_method, window_size, sliding_size)"
   ]
  },
  {
   "cell_type": "code",
   "execution_count": 6,
   "id": "ba65f6ef",
   "metadata": {
    "ExecuteTime": {
     "end_time": "2022-10-05T07:51:57.231770Z",
     "start_time": "2022-10-05T07:51:57.173271Z"
    }
   },
   "outputs": [],
   "source": [
    "# 2-4. 선택한 모드에 따라 parameter 설정\n",
    "if dataModeX == 'trainX':\n",
    "    originalDataset_X = dataset_train_x.copy()\n",
    "    originalDataset_y = dataset_train_y.copy()\n",
    "    startTime = trainStartTime\n",
    "    if transformMode == 'splitAndTransform':\n",
    "        splitNum = 3\n",
    "        transformFreqList = ['1S', '2S', '4S']\n",
    "    elif transformMode == 'onlyTransform':\n",
    "        splitNum = 1\n",
    "        transformFreqList = ['4S']\n",
    "    \n",
    "elif dataModeX == 'testX':\n",
    "    originalDataset_X = dataset_test_x.copy()\n",
    "    originalDataset_y = dataset_test_y.copy()\n",
    "    startTime = testStartTime\n",
    "    if transformMode == 'splitAndTransform':\n",
    "        splitNum = 3\n",
    "        transformFreqList = ['1S', '2S', '4S']\n",
    "    elif transformMode == 'onlyTransform':\n",
    "        splitNum = 1\n",
    "        transformFreqList = ['4S']"
   ]
  },
  {
   "cell_type": "code",
   "execution_count": null,
   "id": "77a26111",
   "metadata": {},
   "outputs": [],
   "source": []
  },
  {
   "cell_type": "markdown",
   "id": "587d076e",
   "metadata": {},
   "source": [
    "## 1-3. Get IntegrationData & window"
   ]
  },
  {
   "cell_type": "code",
   "execution_count": 7,
   "id": "46eabeaf",
   "metadata": {
    "ExecuteTime": {
     "start_time": "2022-10-05T07:51:58.715Z"
    },
    "scrolled": true
   },
   "outputs": [
    {
     "name": "stdout",
     "output_type": "stream",
     "text": [
      ">>>> class  0  , length :  1226\n",
      "====== start trans3NP to DF ======\n",
      "df_x length :  156928\n",
      "====== start split & transform ======\n"
     ]
    },
    {
     "ename": "UnboundLocalError",
     "evalue": "local variable 'split_data' referenced before assignment",
     "output_type": "error",
     "traceback": [
      "\u001b[1;31m---------------------------------------------------------------------------\u001b[0m",
      "\u001b[1;31mUnboundLocalError\u001b[0m                         Traceback (most recent call last)",
      "\u001b[1;32mc:\\Users\\korea\\Desktop\\TestForCollaboration\\KU_ClassificationTest\\810-1.1.ML) dataSplit&Transform&Integration&Save .ipynb 셀 14\u001b[0m in \u001b[0;36m<cell line: 4>\u001b[1;34m()\u001b[0m\n\u001b[0;32m      <a href='vscode-notebook-cell:/c%3A/Users/korea/Desktop/TestForCollaboration/KU_ClassificationTest/810-1.1.ML%29%20dataSplit%26Transform%26Integration%26Save%20.ipynb#X16sZmlsZQ%3D%3D?line=0'>1</a>\u001b[0m \u001b[39m# 3. 분할 및 변형, 통합 데이터 생성\u001b[39;00m\n\u001b[0;32m      <a href='vscode-notebook-cell:/c%3A/Users/korea/Desktop/TestForCollaboration/KU_ClassificationTest/810-1.1.ML%29%20dataSplit%26Transform%26Integration%26Save%20.ipynb#X16sZmlsZQ%3D%3D?line=1'>2</a>\u001b[0m \u001b[39m# 3-1. 모드에 따라 설정한 기본 parameter와 P.parameter를 입력\u001b[39;00m\n\u001b[0;32m      <a href='vscode-notebook-cell:/c%3A/Users/korea/Desktop/TestForCollaboration/KU_ClassificationTest/810-1.1.ML%29%20dataSplit%26Transform%26Integration%26Save%20.ipynb#X16sZmlsZQ%3D%3D?line=2'>3</a>\u001b[0m gid \u001b[39m=\u001b[39m gID\u001b[39m.\u001b[39mgetIntegrationData(originalDataset_X, startTime, splitNum, transformFreqList, \u001b[39m*\u001b[39m\u001b[39m*\u001b[39mintParam)\n\u001b[1;32m----> <a href='vscode-notebook-cell:/c%3A/Users/korea/Desktop/TestForCollaboration/KU_ClassificationTest/810-1.1.ML%29%20dataSplit%26Transform%26Integration%26Save%20.ipynb#X16sZmlsZQ%3D%3D?line=3'>4</a>\u001b[0m intDataSet_X, DataSet_y, window \u001b[39m=\u001b[39m gid\u001b[39m.\u001b[39;49mgetIntegrationDataByMethod(mode \u001b[39m=\u001b[39;49m dataModeX, data_y \u001b[39m=\u001b[39;49m originalDataset_y)\n",
      "File \u001b[1;32mc:\\Users\\korea\\Desktop\\TestForCollaboration\\KU_ClassificationTest\\getIntegrationData.py:36\u001b[0m, in \u001b[0;36mgetIntegrationData.getIntegrationDataByMethod\u001b[1;34m(self, mode, data_y)\u001b[0m\n\u001b[0;32m     34\u001b[0m \u001b[39mself\u001b[39m\u001b[39m.\u001b[39msince \u001b[39m=\u001b[39m time\u001b[39m.\u001b[39mtime()\n\u001b[0;32m     35\u001b[0m \u001b[39mif\u001b[39;00m \u001b[39mself\u001b[39m\u001b[39m.\u001b[39mintegration_method \u001b[39m==\u001b[39m \u001b[39m\"\u001b[39m\u001b[39mML\u001b[39m\u001b[39m\"\u001b[39m:\n\u001b[1;32m---> 36\u001b[0m     \u001b[39mself\u001b[39m\u001b[39m.\u001b[39mintDataSetX, \u001b[39mself\u001b[39m\u001b[39m.\u001b[39mDataSety, \u001b[39mself\u001b[39m\u001b[39m.\u001b[39mwindow \u001b[39m=\u001b[39m \u001b[39mself\u001b[39;49m\u001b[39m.\u001b[39;49mgetIntegratedDatabyML(data_y)\n\u001b[0;32m     37\u001b[0m     \u001b[39mself\u001b[39m\u001b[39m.\u001b[39mgetTimeElapsed()\n\u001b[0;32m     38\u001b[0m     \u001b[39mreturn\u001b[39;00m \u001b[39mself\u001b[39m\u001b[39m.\u001b[39mintDataSetX, \u001b[39mself\u001b[39m\u001b[39m.\u001b[39mDataSety, \u001b[39mself\u001b[39m\u001b[39m.\u001b[39mwindow\n",
      "File \u001b[1;32mc:\\Users\\korea\\Desktop\\TestForCollaboration\\KU_ClassificationTest\\getIntegrationData.py:64\u001b[0m, in \u001b[0;36mgetIntegrationData.getIntegratedDatabyML\u001b[1;34m(self, dataset_train_y)\u001b[0m\n\u001b[0;32m     61\u001b[0m \u001b[39mprint\u001b[39m(\u001b[39m\"\u001b[39m\u001b[39mdf_x length : \u001b[39m\u001b[39m\"\u001b[39m,\u001b[39mlen\u001b[39m(df_x))\n\u001b[0;32m     63\u001b[0m \u001b[39mprint\u001b[39m(\u001b[39m\"\u001b[39m\u001b[39m====== start split & transform ======\u001b[39m\u001b[39m\"\u001b[39m)\n\u001b[1;32m---> 64\u001b[0m dataSet \u001b[39m=\u001b[39m getSplitAndTransformDataByFrequency(df_x, \u001b[39mself\u001b[39;49m\u001b[39m.\u001b[39;49msplitNum, \u001b[39mself\u001b[39;49m\u001b[39m.\u001b[39;49msplitInterval, \u001b[39mself\u001b[39;49m\u001b[39m.\u001b[39;49mtransformFreqList, \u001b[39mself\u001b[39;49m\u001b[39m.\u001b[39;49mfreqTransformMode)\n\u001b[0;32m     66\u001b[0m \u001b[39mprint\u001b[39m(\u001b[39m\"\u001b[39m\u001b[39m====== start integration ======\u001b[39m\u001b[39m\"\u001b[39m)\n\u001b[0;32m     67\u001b[0m int_data \u001b[39m=\u001b[39m p1\u001b[39m.\u001b[39mgetIntDataFromDataset(\u001b[39mself\u001b[39m\u001b[39m.\u001b[39mintegration_freq_sec, \u001b[39mself\u001b[39m\u001b[39m.\u001b[39mprocessParam, dataSet, \u001b[39mself\u001b[39m\u001b[39m.\u001b[39mintegration_method, \u001b[39mself\u001b[39m\u001b[39m.\u001b[39mtransformParam, \u001b[39mself\u001b[39m\u001b[39m.\u001b[39mintegration_duration_criteria)\n",
      "File \u001b[1;32mc:\\Users\\korea\\Desktop\\TestForCollaboration\\KU_ClassificationTest\\..\\KETIPreDataTransformation\\trans_for_purpose\\transformForDataSplit.py:49\u001b[0m, in \u001b[0;36mgetSplitAndTransformDataByFrequency\u001b[1;34m(data, splitNum, splitInterval, transformFreqList, freqTransformMode)\u001b[0m\n\u001b[0;32m     47\u001b[0m     trans_data \u001b[39m=\u001b[39m split_data\u001b[39m.\u001b[39mresample(transformFreqList[num])\u001b[39m.\u001b[39mfirst()\n\u001b[0;32m     48\u001b[0m \u001b[39melse\u001b[39;00m: \u001b[39m# freqTransformMode == \"sampling\"\u001b[39;00m\n\u001b[1;32m---> 49\u001b[0m     trans_data \u001b[39m=\u001b[39m split_data\u001b[39m.\u001b[39mresample(transformFreqList[num])\u001b[39m.\u001b[39mmean()\n\u001b[0;32m     51\u001b[0m \u001b[39m## get split data set\u001b[39;00m\n\u001b[0;32m     52\u001b[0m dataset[num] \u001b[39m=\u001b[39m trans_data\n",
      "\u001b[1;31mUnboundLocalError\u001b[0m: local variable 'split_data' referenced before assignment"
     ]
    }
   ],
   "source": [
    "# 3. 분할 및 변형, 통합 데이터 생성\n",
    "# 3-1. 모드에 따라 설정한 기본 parameter와 P.parameter를 입력\n",
    "gid = gID.getIntegrationData(originalDataset_X, startTime, splitNum, transformFreqList, **intParam)\n",
    "intDataSet_X, DataSet_y, window = gid.getIntegrationDataByMethod(mode = dataModeX, data_y = originalDataset_y)"
   ]
  },
  {
   "cell_type": "code",
   "execution_count": null,
   "id": "fe949bd0",
   "metadata": {},
   "outputs": [],
   "source": []
  },
  {
   "cell_type": "code",
   "execution_count": 33,
   "id": "6491f8bc",
   "metadata": {
    "ExecuteTime": {
     "end_time": "2022-09-22T03:55:26.489415Z",
     "start_time": "2022-09-22T03:55:26.456288Z"
    }
   },
   "outputs": [
    {
     "data": {
      "text/html": [
       "<div>\n",
       "<style scoped>\n",
       "    .dataframe tbody tr th:only-of-type {\n",
       "        vertical-align: middle;\n",
       "    }\n",
       "\n",
       "    .dataframe tbody tr th {\n",
       "        vertical-align: top;\n",
       "    }\n",
       "\n",
       "    .dataframe thead th {\n",
       "        text-align: right;\n",
       "    }\n",
       "</style>\n",
       "<table border=\"1\" class=\"dataframe\">\n",
       "  <thead>\n",
       "    <tr style=\"text-align: right;\">\n",
       "      <th></th>\n",
       "      <th>concat_emb1</th>\n",
       "      <th>concat_emb2</th>\n",
       "      <th>concat_emb3</th>\n",
       "      <th>concat_emb4</th>\n",
       "      <th>concat_emb5</th>\n",
       "      <th>concat_emb6</th>\n",
       "      <th>concat_emb7</th>\n",
       "      <th>concat_emb8</th>\n",
       "      <th>concat_emb9</th>\n",
       "      <th>concat_emb10</th>\n",
       "      <th>...</th>\n",
       "      <th>concat_emb23</th>\n",
       "      <th>concat_emb24</th>\n",
       "      <th>concat_emb25</th>\n",
       "      <th>concat_emb26</th>\n",
       "      <th>concat_emb27</th>\n",
       "      <th>concat_emb28</th>\n",
       "      <th>concat_emb29</th>\n",
       "      <th>concat_emb30</th>\n",
       "      <th>concat_emb31</th>\n",
       "      <th>concat_emb32</th>\n",
       "    </tr>\n",
       "  </thead>\n",
       "  <tbody>\n",
       "    <tr>\n",
       "      <th>2022-01-01 00:00:00</th>\n",
       "      <td>0.025712</td>\n",
       "      <td>-0.148021</td>\n",
       "      <td>-0.018816</td>\n",
       "      <td>0.024458</td>\n",
       "      <td>-0.097670</td>\n",
       "      <td>0.080558</td>\n",
       "      <td>-0.028627</td>\n",
       "      <td>-0.158008</td>\n",
       "      <td>-0.085572</td>\n",
       "      <td>0.091588</td>\n",
       "      <td>...</td>\n",
       "      <td>0.145292</td>\n",
       "      <td>0.137852</td>\n",
       "      <td>-0.137662</td>\n",
       "      <td>0.051408</td>\n",
       "      <td>-0.203874</td>\n",
       "      <td>-0.128454</td>\n",
       "      <td>0.022482</td>\n",
       "      <td>-0.007411</td>\n",
       "      <td>-0.011939</td>\n",
       "      <td>-0.121673</td>\n",
       "    </tr>\n",
       "    <tr>\n",
       "      <th>2022-01-01 00:00:04</th>\n",
       "      <td>0.007098</td>\n",
       "      <td>-0.152861</td>\n",
       "      <td>-0.026520</td>\n",
       "      <td>0.009311</td>\n",
       "      <td>-0.083828</td>\n",
       "      <td>0.079895</td>\n",
       "      <td>-0.022634</td>\n",
       "      <td>-0.146849</td>\n",
       "      <td>-0.089867</td>\n",
       "      <td>0.103487</td>\n",
       "      <td>...</td>\n",
       "      <td>0.147611</td>\n",
       "      <td>0.128161</td>\n",
       "      <td>-0.125431</td>\n",
       "      <td>0.045352</td>\n",
       "      <td>-0.203235</td>\n",
       "      <td>-0.132101</td>\n",
       "      <td>0.029660</td>\n",
       "      <td>-0.002992</td>\n",
       "      <td>-0.011133</td>\n",
       "      <td>-0.141619</td>\n",
       "    </tr>\n",
       "    <tr>\n",
       "      <th>2022-01-01 00:00:08</th>\n",
       "      <td>0.017475</td>\n",
       "      <td>-0.154284</td>\n",
       "      <td>-0.019217</td>\n",
       "      <td>0.015391</td>\n",
       "      <td>-0.090105</td>\n",
       "      <td>0.082844</td>\n",
       "      <td>-0.021357</td>\n",
       "      <td>-0.144400</td>\n",
       "      <td>-0.098256</td>\n",
       "      <td>0.101111</td>\n",
       "      <td>...</td>\n",
       "      <td>0.145854</td>\n",
       "      <td>0.127975</td>\n",
       "      <td>-0.125641</td>\n",
       "      <td>0.052064</td>\n",
       "      <td>-0.206044</td>\n",
       "      <td>-0.135248</td>\n",
       "      <td>0.028694</td>\n",
       "      <td>0.000143</td>\n",
       "      <td>-0.005179</td>\n",
       "      <td>-0.135766</td>\n",
       "    </tr>\n",
       "    <tr>\n",
       "      <th>2022-01-01 00:00:12</th>\n",
       "      <td>0.049457</td>\n",
       "      <td>-0.141920</td>\n",
       "      <td>-0.012297</td>\n",
       "      <td>0.018949</td>\n",
       "      <td>-0.143499</td>\n",
       "      <td>0.114135</td>\n",
       "      <td>-0.031460</td>\n",
       "      <td>-0.168569</td>\n",
       "      <td>-0.082355</td>\n",
       "      <td>0.092348</td>\n",
       "      <td>...</td>\n",
       "      <td>0.134737</td>\n",
       "      <td>0.127335</td>\n",
       "      <td>-0.141193</td>\n",
       "      <td>0.070764</td>\n",
       "      <td>-0.207523</td>\n",
       "      <td>-0.130398</td>\n",
       "      <td>0.006963</td>\n",
       "      <td>0.003658</td>\n",
       "      <td>0.016051</td>\n",
       "      <td>-0.120061</td>\n",
       "    </tr>\n",
       "    <tr>\n",
       "      <th>2022-01-01 00:00:16</th>\n",
       "      <td>0.051669</td>\n",
       "      <td>-0.176772</td>\n",
       "      <td>-0.017089</td>\n",
       "      <td>0.042627</td>\n",
       "      <td>-0.123923</td>\n",
       "      <td>0.076749</td>\n",
       "      <td>-0.021107</td>\n",
       "      <td>-0.159368</td>\n",
       "      <td>-0.100059</td>\n",
       "      <td>0.099691</td>\n",
       "      <td>...</td>\n",
       "      <td>0.168474</td>\n",
       "      <td>0.131372</td>\n",
       "      <td>-0.143223</td>\n",
       "      <td>0.064790</td>\n",
       "      <td>-0.221059</td>\n",
       "      <td>-0.145697</td>\n",
       "      <td>0.023680</td>\n",
       "      <td>0.010304</td>\n",
       "      <td>-0.002695</td>\n",
       "      <td>-0.148706</td>\n",
       "    </tr>\n",
       "    <tr>\n",
       "      <th>...</th>\n",
       "      <td>...</td>\n",
       "      <td>...</td>\n",
       "      <td>...</td>\n",
       "      <td>...</td>\n",
       "      <td>...</td>\n",
       "      <td>...</td>\n",
       "      <td>...</td>\n",
       "      <td>...</td>\n",
       "      <td>...</td>\n",
       "      <td>...</td>\n",
       "      <td>...</td>\n",
       "      <td>...</td>\n",
       "      <td>...</td>\n",
       "      <td>...</td>\n",
       "      <td>...</td>\n",
       "      <td>...</td>\n",
       "      <td>...</td>\n",
       "      <td>...</td>\n",
       "      <td>...</td>\n",
       "      <td>...</td>\n",
       "      <td>...</td>\n",
       "    </tr>\n",
       "    <tr>\n",
       "      <th>2022-01-01 08:09:48</th>\n",
       "      <td>0.146284</td>\n",
       "      <td>0.109511</td>\n",
       "      <td>-0.080031</td>\n",
       "      <td>0.084099</td>\n",
       "      <td>-0.008976</td>\n",
       "      <td>0.103823</td>\n",
       "      <td>-0.129748</td>\n",
       "      <td>0.015084</td>\n",
       "      <td>-0.037604</td>\n",
       "      <td>-0.003279</td>\n",
       "      <td>...</td>\n",
       "      <td>-0.098881</td>\n",
       "      <td>0.141546</td>\n",
       "      <td>0.153031</td>\n",
       "      <td>-0.240717</td>\n",
       "      <td>0.192737</td>\n",
       "      <td>-0.093447</td>\n",
       "      <td>0.082651</td>\n",
       "      <td>-0.182699</td>\n",
       "      <td>-0.004390</td>\n",
       "      <td>-0.001884</td>\n",
       "    </tr>\n",
       "    <tr>\n",
       "      <th>2022-01-01 08:09:52</th>\n",
       "      <td>0.146171</td>\n",
       "      <td>0.109479</td>\n",
       "      <td>-0.079950</td>\n",
       "      <td>0.084039</td>\n",
       "      <td>-0.009100</td>\n",
       "      <td>0.103816</td>\n",
       "      <td>-0.129462</td>\n",
       "      <td>0.015117</td>\n",
       "      <td>-0.037604</td>\n",
       "      <td>-0.003293</td>\n",
       "      <td>...</td>\n",
       "      <td>-0.098901</td>\n",
       "      <td>0.141518</td>\n",
       "      <td>0.153106</td>\n",
       "      <td>-0.240787</td>\n",
       "      <td>0.192635</td>\n",
       "      <td>-0.093523</td>\n",
       "      <td>0.082501</td>\n",
       "      <td>-0.182471</td>\n",
       "      <td>-0.004494</td>\n",
       "      <td>-0.002010</td>\n",
       "    </tr>\n",
       "    <tr>\n",
       "      <th>2022-01-01 08:09:56</th>\n",
       "      <td>0.146182</td>\n",
       "      <td>0.109508</td>\n",
       "      <td>-0.079733</td>\n",
       "      <td>0.084046</td>\n",
       "      <td>-0.009160</td>\n",
       "      <td>0.103864</td>\n",
       "      <td>-0.129720</td>\n",
       "      <td>0.014982</td>\n",
       "      <td>-0.037428</td>\n",
       "      <td>-0.003151</td>\n",
       "      <td>...</td>\n",
       "      <td>-0.098974</td>\n",
       "      <td>0.141516</td>\n",
       "      <td>0.153143</td>\n",
       "      <td>-0.240961</td>\n",
       "      <td>0.192796</td>\n",
       "      <td>-0.093472</td>\n",
       "      <td>0.082487</td>\n",
       "      <td>-0.182522</td>\n",
       "      <td>-0.004649</td>\n",
       "      <td>-0.001921</td>\n",
       "    </tr>\n",
       "    <tr>\n",
       "      <th>2022-01-01 08:10:00</th>\n",
       "      <td>0.146151</td>\n",
       "      <td>0.109582</td>\n",
       "      <td>-0.079514</td>\n",
       "      <td>0.084064</td>\n",
       "      <td>-0.009254</td>\n",
       "      <td>0.103868</td>\n",
       "      <td>-0.129848</td>\n",
       "      <td>0.014972</td>\n",
       "      <td>-0.037175</td>\n",
       "      <td>-0.002936</td>\n",
       "      <td>...</td>\n",
       "      <td>-0.099082</td>\n",
       "      <td>0.141569</td>\n",
       "      <td>0.153253</td>\n",
       "      <td>-0.241304</td>\n",
       "      <td>0.192813</td>\n",
       "      <td>-0.093516</td>\n",
       "      <td>0.082474</td>\n",
       "      <td>-0.182593</td>\n",
       "      <td>-0.004618</td>\n",
       "      <td>-0.001859</td>\n",
       "    </tr>\n",
       "    <tr>\n",
       "      <th>2022-01-01 08:10:04</th>\n",
       "      <td>0.146150</td>\n",
       "      <td>0.109553</td>\n",
       "      <td>-0.079931</td>\n",
       "      <td>0.084062</td>\n",
       "      <td>-0.009097</td>\n",
       "      <td>0.103799</td>\n",
       "      <td>-0.129517</td>\n",
       "      <td>0.015150</td>\n",
       "      <td>-0.037504</td>\n",
       "      <td>-0.003238</td>\n",
       "      <td>...</td>\n",
       "      <td>-0.098901</td>\n",
       "      <td>0.141533</td>\n",
       "      <td>0.153133</td>\n",
       "      <td>-0.240916</td>\n",
       "      <td>0.192567</td>\n",
       "      <td>-0.093579</td>\n",
       "      <td>0.082517</td>\n",
       "      <td>-0.182567</td>\n",
       "      <td>-0.004366</td>\n",
       "      <td>-0.001928</td>\n",
       "    </tr>\n",
       "  </tbody>\n",
       "</table>\n",
       "<p>7352 rows × 32 columns</p>\n",
       "</div>"
      ],
      "text/plain": [
       "                     concat_emb1  concat_emb2  concat_emb3  concat_emb4  \\\n",
       "2022-01-01 00:00:00     0.025712    -0.148021    -0.018816     0.024458   \n",
       "2022-01-01 00:00:04     0.007098    -0.152861    -0.026520     0.009311   \n",
       "2022-01-01 00:00:08     0.017475    -0.154284    -0.019217     0.015391   \n",
       "2022-01-01 00:00:12     0.049457    -0.141920    -0.012297     0.018949   \n",
       "2022-01-01 00:00:16     0.051669    -0.176772    -0.017089     0.042627   \n",
       "...                          ...          ...          ...          ...   \n",
       "2022-01-01 08:09:48     0.146284     0.109511    -0.080031     0.084099   \n",
       "2022-01-01 08:09:52     0.146171     0.109479    -0.079950     0.084039   \n",
       "2022-01-01 08:09:56     0.146182     0.109508    -0.079733     0.084046   \n",
       "2022-01-01 08:10:00     0.146151     0.109582    -0.079514     0.084064   \n",
       "2022-01-01 08:10:04     0.146150     0.109553    -0.079931     0.084062   \n",
       "\n",
       "                     concat_emb5  concat_emb6  concat_emb7  concat_emb8  \\\n",
       "2022-01-01 00:00:00    -0.097670     0.080558    -0.028627    -0.158008   \n",
       "2022-01-01 00:00:04    -0.083828     0.079895    -0.022634    -0.146849   \n",
       "2022-01-01 00:00:08    -0.090105     0.082844    -0.021357    -0.144400   \n",
       "2022-01-01 00:00:12    -0.143499     0.114135    -0.031460    -0.168569   \n",
       "2022-01-01 00:00:16    -0.123923     0.076749    -0.021107    -0.159368   \n",
       "...                          ...          ...          ...          ...   \n",
       "2022-01-01 08:09:48    -0.008976     0.103823    -0.129748     0.015084   \n",
       "2022-01-01 08:09:52    -0.009100     0.103816    -0.129462     0.015117   \n",
       "2022-01-01 08:09:56    -0.009160     0.103864    -0.129720     0.014982   \n",
       "2022-01-01 08:10:00    -0.009254     0.103868    -0.129848     0.014972   \n",
       "2022-01-01 08:10:04    -0.009097     0.103799    -0.129517     0.015150   \n",
       "\n",
       "                     concat_emb9  concat_emb10  ...  concat_emb23  \\\n",
       "2022-01-01 00:00:00    -0.085572      0.091588  ...      0.145292   \n",
       "2022-01-01 00:00:04    -0.089867      0.103487  ...      0.147611   \n",
       "2022-01-01 00:00:08    -0.098256      0.101111  ...      0.145854   \n",
       "2022-01-01 00:00:12    -0.082355      0.092348  ...      0.134737   \n",
       "2022-01-01 00:00:16    -0.100059      0.099691  ...      0.168474   \n",
       "...                          ...           ...  ...           ...   \n",
       "2022-01-01 08:09:48    -0.037604     -0.003279  ...     -0.098881   \n",
       "2022-01-01 08:09:52    -0.037604     -0.003293  ...     -0.098901   \n",
       "2022-01-01 08:09:56    -0.037428     -0.003151  ...     -0.098974   \n",
       "2022-01-01 08:10:00    -0.037175     -0.002936  ...     -0.099082   \n",
       "2022-01-01 08:10:04    -0.037504     -0.003238  ...     -0.098901   \n",
       "\n",
       "                     concat_emb24  concat_emb25  concat_emb26  concat_emb27  \\\n",
       "2022-01-01 00:00:00      0.137852     -0.137662      0.051408     -0.203874   \n",
       "2022-01-01 00:00:04      0.128161     -0.125431      0.045352     -0.203235   \n",
       "2022-01-01 00:00:08      0.127975     -0.125641      0.052064     -0.206044   \n",
       "2022-01-01 00:00:12      0.127335     -0.141193      0.070764     -0.207523   \n",
       "2022-01-01 00:00:16      0.131372     -0.143223      0.064790     -0.221059   \n",
       "...                           ...           ...           ...           ...   \n",
       "2022-01-01 08:09:48      0.141546      0.153031     -0.240717      0.192737   \n",
       "2022-01-01 08:09:52      0.141518      0.153106     -0.240787      0.192635   \n",
       "2022-01-01 08:09:56      0.141516      0.153143     -0.240961      0.192796   \n",
       "2022-01-01 08:10:00      0.141569      0.153253     -0.241304      0.192813   \n",
       "2022-01-01 08:10:04      0.141533      0.153133     -0.240916      0.192567   \n",
       "\n",
       "                     concat_emb28  concat_emb29  concat_emb30  concat_emb31  \\\n",
       "2022-01-01 00:00:00     -0.128454      0.022482     -0.007411     -0.011939   \n",
       "2022-01-01 00:00:04     -0.132101      0.029660     -0.002992     -0.011133   \n",
       "2022-01-01 00:00:08     -0.135248      0.028694      0.000143     -0.005179   \n",
       "2022-01-01 00:00:12     -0.130398      0.006963      0.003658      0.016051   \n",
       "2022-01-01 00:00:16     -0.145697      0.023680      0.010304     -0.002695   \n",
       "...                           ...           ...           ...           ...   \n",
       "2022-01-01 08:09:48     -0.093447      0.082651     -0.182699     -0.004390   \n",
       "2022-01-01 08:09:52     -0.093523      0.082501     -0.182471     -0.004494   \n",
       "2022-01-01 08:09:56     -0.093472      0.082487     -0.182522     -0.004649   \n",
       "2022-01-01 08:10:00     -0.093516      0.082474     -0.182593     -0.004618   \n",
       "2022-01-01 08:10:04     -0.093579      0.082517     -0.182567     -0.004366   \n",
       "\n",
       "                     concat_emb32  \n",
       "2022-01-01 00:00:00     -0.121673  \n",
       "2022-01-01 00:00:04     -0.141619  \n",
       "2022-01-01 00:00:08     -0.135766  \n",
       "2022-01-01 00:00:12     -0.120061  \n",
       "2022-01-01 00:00:16     -0.148706  \n",
       "...                           ...  \n",
       "2022-01-01 08:09:48     -0.001884  \n",
       "2022-01-01 08:09:52     -0.002010  \n",
       "2022-01-01 08:09:56     -0.001921  \n",
       "2022-01-01 08:10:00     -0.001859  \n",
       "2022-01-01 08:10:04     -0.001928  \n",
       "\n",
       "[7352 rows x 32 columns]"
      ]
     },
     "execution_count": 33,
     "metadata": {},
     "output_type": "execute_result"
    }
   ],
   "source": [
    "# 3-2. 통합 데이터\n",
    "intDataSet_X"
   ]
  },
  {
   "cell_type": "code",
   "execution_count": 34,
   "id": "9ec33d2a",
   "metadata": {},
   "outputs": [
    {
     "data": {
      "text/html": [
       "<div>\n",
       "<style scoped>\n",
       "    .dataframe tbody tr th:only-of-type {\n",
       "        vertical-align: middle;\n",
       "    }\n",
       "\n",
       "    .dataframe tbody tr th {\n",
       "        vertical-align: top;\n",
       "    }\n",
       "\n",
       "    .dataframe thead th {\n",
       "        text-align: right;\n",
       "    }\n",
       "</style>\n",
       "<table border=\"1\" class=\"dataframe\">\n",
       "  <thead>\n",
       "    <tr style=\"text-align: right;\">\n",
       "      <th></th>\n",
       "      <th>value</th>\n",
       "    </tr>\n",
       "  </thead>\n",
       "  <tbody>\n",
       "    <tr>\n",
       "      <th>2022-01-01 00:00:00</th>\n",
       "      <td>0.0</td>\n",
       "    </tr>\n",
       "    <tr>\n",
       "      <th>2022-01-01 00:00:01</th>\n",
       "      <td>0.0</td>\n",
       "    </tr>\n",
       "    <tr>\n",
       "      <th>2022-01-01 00:00:02</th>\n",
       "      <td>0.0</td>\n",
       "    </tr>\n",
       "    <tr>\n",
       "      <th>2022-01-01 00:00:03</th>\n",
       "      <td>0.0</td>\n",
       "    </tr>\n",
       "    <tr>\n",
       "      <th>2022-01-01 00:00:04</th>\n",
       "      <td>0.0</td>\n",
       "    </tr>\n",
       "    <tr>\n",
       "      <th>...</th>\n",
       "      <td>...</td>\n",
       "    </tr>\n",
       "    <tr>\n",
       "      <th>2022-01-01 02:02:27</th>\n",
       "      <td>5.0</td>\n",
       "    </tr>\n",
       "    <tr>\n",
       "      <th>2022-01-01 02:02:28</th>\n",
       "      <td>5.0</td>\n",
       "    </tr>\n",
       "    <tr>\n",
       "      <th>2022-01-01 02:02:29</th>\n",
       "      <td>5.0</td>\n",
       "    </tr>\n",
       "    <tr>\n",
       "      <th>2022-01-01 02:02:30</th>\n",
       "      <td>5.0</td>\n",
       "    </tr>\n",
       "    <tr>\n",
       "      <th>2022-01-01 02:02:31</th>\n",
       "      <td>5.0</td>\n",
       "    </tr>\n",
       "  </tbody>\n",
       "</table>\n",
       "<p>7352 rows × 1 columns</p>\n",
       "</div>"
      ],
      "text/plain": [
       "                     value\n",
       "2022-01-01 00:00:00    0.0\n",
       "2022-01-01 00:00:01    0.0\n",
       "2022-01-01 00:00:02    0.0\n",
       "2022-01-01 00:00:03    0.0\n",
       "2022-01-01 00:00:04    0.0\n",
       "...                    ...\n",
       "2022-01-01 02:02:27    5.0\n",
       "2022-01-01 02:02:28    5.0\n",
       "2022-01-01 02:02:29    5.0\n",
       "2022-01-01 02:02:30    5.0\n",
       "2022-01-01 02:02:31    5.0\n",
       "\n",
       "[7352 rows x 1 columns]"
      ]
     },
     "execution_count": 34,
     "metadata": {},
     "output_type": "execute_result"
    }
   ],
   "source": [
    "DataSet_y"
   ]
  },
  {
   "cell_type": "code",
   "execution_count": 35,
   "id": "dacaafb4",
   "metadata": {
    "ExecuteTime": {
     "end_time": "2022-09-22T03:55:31.231698Z",
     "start_time": "2022-09-22T03:55:31.227297Z"
    }
   },
   "outputs": [],
   "source": [
    "# timeElapsed 설정\n",
    "timeElapsed = gid.timeElapsed"
   ]
  },
  {
   "cell_type": "code",
   "execution_count": null,
   "id": "0a691125",
   "metadata": {},
   "outputs": [],
   "source": []
  },
  {
   "cell_type": "markdown",
   "id": "4ab4733f",
   "metadata": {},
   "source": [
    "## 1-4. Data Save & Json Save"
   ]
  },
  {
   "cell_type": "code",
   "execution_count": 36,
   "id": "1b77b845",
   "metadata": {
    "ExecuteTime": {
     "end_time": "2022-09-22T03:55:46.486427Z",
     "start_time": "2022-09-22T03:55:46.481228Z"
    }
   },
   "outputs": [],
   "source": [
    "# 4. Data&Json Save\n",
    "# 4-1. Json Info 설정\n",
    "datasetName = 'ActionPatternData'\n",
    "processParam = intParam[\"processParam\"]\n",
    "dataInfo = {}\n",
    "integration_freq_sec = intParam[\"integration_freq_sec\"]\n",
    "cleanParam = intParam[\"cleanParam\"]\n",
    "DataSaveMode = intParam[\"DataSaveMode\"]"
   ]
  },
  {
   "cell_type": "code",
   "execution_count": 37,
   "id": "74e777d3",
   "metadata": {},
   "outputs": [
    {
     "name": "stdout",
     "output_type": "stream",
     "text": [
      "ML_trainX_ActionPatternData_Split3\n",
      "ML_trainy_ActionPatternData_Split3\n"
     ]
    }
   ],
   "source": [
    "for name in [dataModeX, dataModey]:\n",
    "    dataMode = name # dataModey\n",
    "    if name[-1] == \"X\":\n",
    "        data = intDataSet_X.copy()\n",
    "    else:\n",
    "        data = DataSet_y.copy()\n",
    "        \n",
    "    dataName = integration_method+\"_\"+dataMode+'_'+datasetName+'_Split'+str(splitNum)\n",
    "    endTime = str(data.index[-1])\n",
    "    dataInfo = {\n",
    "        \"windows\" : 1,\n",
    "        \"dataSize\" : str(data.size),\n",
    "        \"timeElapsed\" : timeElapsed\n",
    "    }\n",
    "    \n",
    "    print(dataName)\n",
    "    #print(data.info())\n",
    "    \n",
    "    # 4-3. Data Save\n",
    "    fileName = p1.saveCSVData(pathSetting.dataFolderPath, dataName, data)\n",
    "\n",
    "    # 4-4. Json Save\n",
    "    p1.saveJsonMeta(pathSetting.DataMetaPath, dataName, processParam, dataInfo,integration_freq_sec, \n",
    "                    startTime, endTime, cleanParam, DataSaveMode)"
   ]
  },
  {
   "cell_type": "code",
   "execution_count": null,
   "id": "9a9c50bb",
   "metadata": {},
   "outputs": [],
   "source": []
  },
  {
   "cell_type": "code",
   "execution_count": null,
   "id": "5b22ef2c",
   "metadata": {},
   "outputs": [],
   "source": []
  }
 ],
 "metadata": {
  "hide_input": false,
  "kernelspec": {
   "display_name": "Python 3.9.12 ('torch')",
   "language": "python",
   "name": "python3"
  },
  "language_info": {
   "codemirror_mode": {
    "name": "ipython",
    "version": 3
   },
   "file_extension": ".py",
   "mimetype": "text/x-python",
   "name": "python",
   "nbconvert_exporter": "python",
   "pygments_lexer": "ipython3",
   "version": "3.9.12"
  },
  "toc": {
   "base_numbering": 1,
   "nav_menu": {},
   "number_sections": true,
   "sideBar": true,
   "skip_h1_title": false,
   "title_cell": "Table of Contents",
   "title_sidebar": "Contents",
   "toc_cell": false,
   "toc_position": {
    "height": "calc(100% - 180px)",
    "left": "10px",
    "top": "150px",
    "width": "183px"
   },
   "toc_section_display": true,
   "toc_window_display": true
  },
  "vscode": {
   "interpreter": {
    "hash": "706c2e6365fd0da88e422b1155d848ec1bd03fcf22a183bf2b65734d8441fcb5"
   }
  }
 },
 "nbformat": 4,
 "nbformat_minor": 5
}
