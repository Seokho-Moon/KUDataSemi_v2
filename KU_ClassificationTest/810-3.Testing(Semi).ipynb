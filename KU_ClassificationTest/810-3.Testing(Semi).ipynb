{
 "cells": [
  {
   "cell_type": "markdown",
   "id": "03f3be77",
   "metadata": {
    "toc": true
   },
   "source": [
    "<h1>Table of Contents<span class=\"tocSkip\"></span></h1>\n",
    "<div class=\"toc\"><ul class=\"toc-item\"><li><span><a href=\"#3.-Testing\" data-toc-modified-id=\"3.-Testing-1\"><span class=\"toc-item-num\">1&nbsp;&nbsp;</span>3. Testing</a></span><ul class=\"toc-item\"><li><span><a href=\"#3-1.-Data&amp;Model-selection\" data-toc-modified-id=\"3-1.-Data&amp;Model-selection-1.1\"><span class=\"toc-item-num\">1.1&nbsp;&nbsp;</span>3-1. Data&amp;Model selection</a></span></li><li><span><a href=\"#3-2.-Testing\" data-toc-modified-id=\"3-2.-Testing-1.2\"><span class=\"toc-item-num\">1.2&nbsp;&nbsp;</span>3-2. Testing</a></span></li><li><span><a href=\"#3-3.-Save-Result\" data-toc-modified-id=\"3-3.-Save-Result-1.3\"><span class=\"toc-item-num\">1.3&nbsp;&nbsp;</span>3-3. Save Result</a></span></li></ul></li></ul></div>"
   ]
  },
  {
   "cell_type": "code",
   "execution_count": 1,
   "id": "1611f6b2",
   "metadata": {
    "ExecuteTime": {
     "end_time": "2022-09-06T07:54:58.898174Z",
     "start_time": "2022-09-06T07:54:56.962949Z"
    }
   },
   "outputs": [
    {
     "name": "stderr",
     "output_type": "stream",
     "text": [
      "c:\\Users\\korea\\anaconda3\\envs\\torch\\lib\\site-packages\\tqdm\\auto.py:22: TqdmWarning: IProgress not found. Please update jupyter and ipywidgets. See https://ipywidgets.readthedocs.io/en/stable/user_install.html\n",
      "  from .autonotebook import tqdm as notebook_tqdm\n"
     ]
    },
    {
     "name": "stdout",
     "output_type": "stream",
     "text": [
      "cuda is available.\n"
     ]
    }
   ],
   "source": [
    "import sys, os\n",
    "import pandas as pd\n",
    "import numpy as np\n",
    "import setting\n",
    "import pathSetting\n",
    "sys.path.append(\"../../..\")\n",
    "\n",
    "from KETIToolDL.CLUSTTool.common import p1_integratedDataSaving as p1\n",
    "from KETIToolDL.CLUSTTool.common import p2_dataSelection as p2\n",
    "from KETIToolDL.CLUSTTool.common import p3_training as p3\n",
    "from KETIToolDL.CLUSTTool.common import p4_testing as p4\n",
    "from KETIToolDL.CLUSTTool.Semi import p4_testing as p4S\n",
    "\n",
    "import torch\n",
    "\n",
    "device = \"cuda\" if torch.cuda.is_available() else \"cpu\"\n",
    "print(f\"{device}\" \" is available.\")"
   ]
  },
  {
   "cell_type": "markdown",
   "id": "b5878a1b",
   "metadata": {},
   "source": [
    "# 3. Testing\n",
    "## 3-1. Data&Model selection"
   ]
  },
  {
   "cell_type": "code",
   "execution_count": 2,
   "id": "e46acda7",
   "metadata": {
    "ExecuteTime": {
     "end_time": "2022-09-06T07:54:59.651869Z",
     "start_time": "2022-09-06T07:54:59.631272Z"
    }
   },
   "outputs": [
    {
     "data": {
      "text/plain": [
       "['ML_testX_ActionPatternData_Split3',\n",
       " 'ML_testy_ActionPatternData_Split3',\n",
       " 'ML_trainX_ActionPatternData_Split3',\n",
       " 'ML_trainy_ActionPatternData_Split3',\n",
       " 'trainX_ActionPatternData_Split3',\n",
       " 'trainy_ActionPatternData_SplitNone',\n",
       " 'testX_ActionPatternData_Split3',\n",
       " 'testy_ActionPatternData_SplitNone']"
      ]
     },
     "execution_count": 2,
     "metadata": {},
     "output_type": "execute_result"
    }
   ],
   "source": [
    "# Test Data & Model\n",
    "# 1-1. 저장 Data 확인\n",
    "DataMeta = p1.readJsonData(pathSetting.DataMetaPath)\n",
    "dataList =  list(DataMeta.keys())\n",
    "dataList"
   ]
  },
  {
   "cell_type": "code",
   "execution_count": 3,
   "id": "59ea39c2",
   "metadata": {
    "ExecuteTime": {
     "end_time": "2022-09-06T07:55:10.797745Z",
     "start_time": "2022-09-06T07:55:10.791325Z"
    }
   },
   "outputs": [
    {
     "data": {
      "text/plain": [
       "('ML_trainX_ActionPatternData_Split3', 'ML_trainy_ActionPatternData_Split3')"
      ]
     },
     "execution_count": 3,
     "metadata": {},
     "output_type": "execute_result"
    }
   ],
   "source": [
    "dataList[2] , dataList[3]"
   ]
  },
  {
   "cell_type": "code",
   "execution_count": 4,
   "id": "36fa45b2",
   "metadata": {
    "ExecuteTime": {
     "end_time": "2022-09-06T07:55:15.330643Z",
     "start_time": "2022-09-06T07:55:15.315914Z"
    }
   },
   "outputs": [
    {
     "data": {
      "text/plain": [
       "['ML_trainX_ActionPatternData_Split3_FC_cf',\n",
       " 'ML_trainX_ActionPatternData_Split3_LSTM_cf',\n",
       " 'ML_trainX_ActionPatternData_Split3_SMATE_cf',\n",
       " 'ML_trainX_ActionPatternData_Split3_SemiTime_cf']"
      ]
     },
     "execution_count": 4,
     "metadata": {},
     "output_type": "execute_result"
    }
   ],
   "source": [
    "# 1-2. Select Test Data\n",
    "## dataX\n",
    "dataName_X = dataList[2]\n",
    "## datay\n",
    "dataName_y = dataList[3]\n",
    "dataFolderName = \"data_integrated_result\"\n",
    "\n",
    "# 1-3. 저장 Model 확인\n",
    "ModelMeta =p1.readJsonData(pathSetting.trainModelMetaFilePath)\n",
    "modelList = list(ModelMeta.keys())\n",
    "modelList"
   ]
  },
  {
   "cell_type": "code",
   "execution_count": 5,
   "id": "04592c42",
   "metadata": {
    "ExecuteTime": {
     "end_time": "2022-09-06T07:55:24.669928Z",
     "start_time": "2022-09-06T07:55:24.666315Z"
    }
   },
   "outputs": [],
   "source": [
    "# 1-4. select Model -> module 때문에 모델 이름 변경 (SMATE_cf, SemiTime_cf 위치 보고 변경)\n",
    "modelName = modelList[2]\n",
    "windows = DataMeta[dataName_X][\"integrationInfo\"][\"dataInfo\"][\"windows\"]"
   ]
  },
  {
   "cell_type": "code",
   "execution_count": 6,
   "id": "142a1e57",
   "metadata": {
    "ExecuteTime": {
     "end_time": "2022-09-06T07:55:25.394522Z",
     "start_time": "2022-09-06T07:55:25.388746Z"
    },
    "scrolled": true
   },
   "outputs": [
    {
     "data": {
      "text/plain": [
       "'ML_trainX_ActionPatternData_Split3_SMATE_cf'"
      ]
     },
     "execution_count": 6,
     "metadata": {},
     "output_type": "execute_result"
    }
   ],
   "source": [
    "# 1-5. 선택한 Model 확인-> 엄밀히 하면, HAR_raw data의 SMATE_cf 모델이 들어가 있음\n",
    "modelName"
   ]
  },
  {
   "cell_type": "markdown",
   "id": "5bd12fa4",
   "metadata": {},
   "source": [
    "## 3-2. Testing"
   ]
  },
  {
   "cell_type": "code",
   "execution_count": 7,
   "id": "5494411b",
   "metadata": {},
   "outputs": [
    {
     "data": {
      "text/plain": [
       "{'ML_testX_ActionPatternData_Split3': {'integrationInfo': {'startTime': '2022-02-01',\n",
       "   'endTime': '2022-02-01 03:16:24',\n",
       "   'dataInfo': {'windows': 1,\n",
       "    'dataSize': '94304',\n",
       "    'timeElapsed': '0:00:22.175951'},\n",
       "   'processParam': {'refine_param': {'removeDuplication': {'flag': False},\n",
       "     'staticFrequency': {'flag': False, 'frequency': None}},\n",
       "    'outlier_param': {'certainErrorToNaN': {'flag': False},\n",
       "     'unCertainErrorToNaN': {'flag': False, 'param': {}}},\n",
       "    'imputation_param': {'serialImputation': {'flag': False,\n",
       "      'imputation_method': [],\n",
       "      'totalNonNanRatio': 80}}},\n",
       "   'integration_freq_sec': 4,\n",
       "   'cleanParam': 'NoClean',\n",
       "   'DataSaveMode': 'CSV'}},\n",
       " 'ML_testy_ActionPatternData_Split3': {'integrationInfo': {'startTime': '2022-02-01',\n",
       "   'endTime': '2022-02-01 00:49:06',\n",
       "   'dataInfo': {'windows': 1,\n",
       "    'dataSize': '2947',\n",
       "    'timeElapsed': '0:00:22.175951'},\n",
       "   'processParam': {'refine_param': {'removeDuplication': {'flag': False},\n",
       "     'staticFrequency': {'flag': False, 'frequency': None}},\n",
       "    'outlier_param': {'certainErrorToNaN': {'flag': False},\n",
       "     'unCertainErrorToNaN': {'flag': False, 'param': {}}},\n",
       "    'imputation_param': {'serialImputation': {'flag': False,\n",
       "      'imputation_method': [],\n",
       "      'totalNonNanRatio': 80}}},\n",
       "   'integration_freq_sec': 4,\n",
       "   'cleanParam': 'NoClean',\n",
       "   'DataSaveMode': 'CSV'}},\n",
       " 'ML_trainX_ActionPatternData_Split3': {'integrationInfo': {'startTime': '2022-01-01',\n",
       "   'endTime': '2022-01-01 08:10:04',\n",
       "   'dataInfo': {'windows': 1,\n",
       "    'dataSize': '235264',\n",
       "    'timeElapsed': '0:00:52.012849'},\n",
       "   'processParam': {'refine_param': {'removeDuplication': {'flag': False},\n",
       "     'staticFrequency': {'flag': False, 'frequency': None}},\n",
       "    'outlier_param': {'certainErrorToNaN': {'flag': False},\n",
       "     'unCertainErrorToNaN': {'flag': False, 'param': {}}},\n",
       "    'imputation_param': {'serialImputation': {'flag': False,\n",
       "      'imputation_method': [],\n",
       "      'totalNonNanRatio': 80}}},\n",
       "   'integration_freq_sec': 4,\n",
       "   'cleanParam': 'NoClean',\n",
       "   'DataSaveMode': 'CSV'}},\n",
       " 'ML_trainy_ActionPatternData_Split3': {'integrationInfo': {'startTime': '2022-01-01',\n",
       "   'endTime': '2022-01-01 02:02:31',\n",
       "   'dataInfo': {'windows': 1,\n",
       "    'dataSize': '7352',\n",
       "    'timeElapsed': '0:00:52.012849'},\n",
       "   'processParam': {'refine_param': {'removeDuplication': {'flag': False},\n",
       "     'staticFrequency': {'flag': False, 'frequency': None}},\n",
       "    'outlier_param': {'certainErrorToNaN': {'flag': False},\n",
       "     'unCertainErrorToNaN': {'flag': False, 'param': {}}},\n",
       "    'imputation_param': {'serialImputation': {'flag': False,\n",
       "      'imputation_method': [],\n",
       "      'totalNonNanRatio': 80}}},\n",
       "   'integration_freq_sec': 4,\n",
       "   'cleanParam': 'NoClean',\n",
       "   'DataSaveMode': 'CSV'}},\n",
       " 'trainX_ActionPatternData_Split3': {'integrationInfo': {'startTime': '2022-01-01',\n",
       "   'endTime': '2022-01-11 21:24:12',\n",
       "   'dataInfo': {'windows': 32,\n",
       "    'dataSize': '2117376',\n",
       "    'timeElapsed': '0:01:13.571134'},\n",
       "   'processParam': {'refine_param': {'removeDuplication': {'flag': False},\n",
       "     'staticFrequency': {'flag': False, 'frequency': None}},\n",
       "    'outlier_param': {'certainErrorToNaN': {'flag': False},\n",
       "     'unCertainErrorToNaN': {'flag': False, 'param': {}}},\n",
       "    'imputation_param': {'serialImputation': {'flag': False,\n",
       "      'imputation_method': [],\n",
       "      'totalNonNanRatio': 80}}},\n",
       "   'integration_freq_sec': 4,\n",
       "   'cleanParam': 'NoClean',\n",
       "   'DataSaveMode': 'CSV'}},\n",
       " 'trainy_ActionPatternData_SplitNone': {'integrationInfo': {'startTime': '2022-01-01',\n",
       "   'endTime': '2022-01-01 02:02:31',\n",
       "   'dataInfo': {'windows': 1,\n",
       "    'dataSize': '7352',\n",
       "    'timeElapsed': '0:00:00.000999'},\n",
       "   'processParam': {'refine_param': {'removeDuplication': {'flag': False},\n",
       "     'staticFrequency': {'flag': False, 'frequency': None}},\n",
       "    'outlier_param': {'certainErrorToNaN': {'flag': False},\n",
       "     'unCertainErrorToNaN': {'flag': False, 'param': {}}},\n",
       "    'imputation_param': {'serialImputation': {'flag': False,\n",
       "      'imputation_method': [],\n",
       "      'totalNonNanRatio': 80}}},\n",
       "   'integration_freq_sec': 4,\n",
       "   'cleanParam': 'NoClean',\n",
       "   'DataSaveMode': 'CSV'}},\n",
       " 'testX_ActionPatternData_Split3': {'integrationInfo': {'startTime': '2022-02-01',\n",
       "   'endTime': '2022-02-05 08:46:52',\n",
       "   'dataInfo': {'windows': 32,\n",
       "    'dataSize': '848736',\n",
       "    'timeElapsed': '0:00:24.053981'},\n",
       "   'processParam': {'refine_param': {'removeDuplication': {'flag': False},\n",
       "     'staticFrequency': {'flag': False, 'frequency': None}},\n",
       "    'outlier_param': {'certainErrorToNaN': {'flag': False},\n",
       "     'unCertainErrorToNaN': {'flag': False, 'param': {}}},\n",
       "    'imputation_param': {'serialImputation': {'flag': False,\n",
       "      'imputation_method': [],\n",
       "      'totalNonNanRatio': 80}}},\n",
       "   'integration_freq_sec': 4,\n",
       "   'cleanParam': 'NoClean',\n",
       "   'DataSaveMode': 'CSV'}},\n",
       " 'testy_ActionPatternData_SplitNone': {'integrationInfo': {'startTime': '2022-02-01',\n",
       "   'endTime': '2022-02-01 00:49:06',\n",
       "   'dataInfo': {'windows': 1,\n",
       "    'dataSize': '2947',\n",
       "    'timeElapsed': '0:00:00.002001'},\n",
       "   'processParam': {'refine_param': {'removeDuplication': {'flag': False},\n",
       "     'staticFrequency': {'flag': False, 'frequency': None}},\n",
       "    'outlier_param': {'certainErrorToNaN': {'flag': False},\n",
       "     'unCertainErrorToNaN': {'flag': False, 'param': {}}},\n",
       "    'imputation_param': {'serialImputation': {'flag': False,\n",
       "      'imputation_method': [],\n",
       "      'totalNonNanRatio': 80}}},\n",
       "   'integration_freq_sec': 4,\n",
       "   'cleanParam': 'NoClean',\n",
       "   'DataSaveMode': 'CSV'}}}"
      ]
     },
     "execution_count": 7,
     "metadata": {},
     "output_type": "execute_result"
    }
   ],
   "source": [
    "DataMeta"
   ]
  },
  {
   "cell_type": "code",
   "execution_count": 8,
   "id": "ca928a3c",
   "metadata": {},
   "outputs": [
    {
     "data": {
      "text/plain": [
       "{'ML_trainX_ActionPatternData_Split3_FC_cf': {'author': 'KETI',\n",
       "  'modelName': 'ML_trainX_ActionPatternData_Split3_FC_cf',\n",
       "  'modelVersion': 0.1,\n",
       "  'trainDataInfo': {'startTime': '2022-01-01',\n",
       "   'endTime': '2022-01-01 08:10:04',\n",
       "   'dataInfo': {'windows': 1,\n",
       "    'dataSize': '235264',\n",
       "    'timeElapsed': '0:00:52.012849'},\n",
       "   'processParam': {'refine_param': {'removeDuplication': {'flag': False},\n",
       "     'staticFrequency': {'flag': False, 'frequency': None}},\n",
       "    'outlier_param': {'certainErrorToNaN': {'flag': False},\n",
       "     'unCertainErrorToNaN': {'flag': False, 'param': {}}},\n",
       "    'imputation_param': {'serialImputation': {'flag': False,\n",
       "      'imputation_method': [],\n",
       "      'totalNonNanRatio': 80}}},\n",
       "   'integration_freq_sec': 4,\n",
       "   'cleanParam': 'NoClean',\n",
       "   'DataSaveMode': 'CSV'},\n",
       "  'featureList': ['concat_emb1',\n",
       "   'concat_emb2',\n",
       "   'concat_emb3',\n",
       "   'concat_emb4',\n",
       "   'concat_emb5',\n",
       "   'concat_emb6',\n",
       "   'concat_emb7',\n",
       "   'concat_emb8',\n",
       "   'concat_emb9',\n",
       "   'concat_emb10',\n",
       "   'concat_emb11',\n",
       "   'concat_emb12',\n",
       "   'concat_emb13',\n",
       "   'concat_emb14',\n",
       "   'concat_emb15',\n",
       "   'concat_emb16',\n",
       "   'concat_emb17',\n",
       "   'concat_emb18',\n",
       "   'concat_emb19',\n",
       "   'concat_emb20',\n",
       "   'concat_emb21',\n",
       "   'concat_emb22',\n",
       "   'concat_emb23',\n",
       "   'concat_emb24',\n",
       "   'concat_emb25',\n",
       "   'concat_emb26',\n",
       "   'concat_emb27',\n",
       "   'concat_emb28',\n",
       "   'concat_emb29',\n",
       "   'concat_emb30',\n",
       "   'concat_emb31',\n",
       "   'concat_emb32'],\n",
       "  'target': ['value'],\n",
       "  'trainDataType': 'timeseries',\n",
       "  'modelPurpose': 'classification',\n",
       "  'model_method': 'FC_cf',\n",
       "  'modelTags': ['action',\n",
       "   'sensor',\n",
       "   'classification',\n",
       "   'pattern',\n",
       "   'ML_trainX_ActionPatternData_Split3',\n",
       "   'FC_cf'],\n",
       "  'cleanTrainDataParam': 'NoClean',\n",
       "  'NaNProcessingParam': {},\n",
       "  'trainDataName': ['ML_trainX_ActionPatternData_Split3',\n",
       "   'ML_trainy_ActionPatternData_Split3'],\n",
       "  'trainParameter': {'drop_out': 0.1,\n",
       "   'bias': True,\n",
       "   'lr': 0.0001,\n",
       "   'device': 'cuda',\n",
       "   'num_classes': 6,\n",
       "   'input_size': 32},\n",
       "  'scalerParam': 'scale',\n",
       "  'files': {'modelFile': {'fileName': 'model.pth',\n",
       "    'filePath': ['./Models\\\\FC_cf\\\\ML_trainX_ActionPatternData_Split3_FC_cf\\\\ML_trainX_ActionPatternData_Split3\\\\d2293f7b3201fc743587b5a72ae6f888\\\\model.pt']},\n",
       "   'XScalerFile': {'fileName': 'scaler.pkl',\n",
       "    'filePath': './scaler/ML_trainX_ActionPatternData_Split3\\\\NoClean\\\\minmax\\\\4144431a8249ee214fed9f95d5cf8e1f\\\\scaler.pkl'},\n",
       "   'yScalerFile': {'fileName': 'scaler.pkl', 'filePath': None}},\n",
       "  'n_epochs': 100,\n",
       "  'timeElapsed': '0:00:16.784171'},\n",
       " 'ML_trainX_ActionPatternData_Split3_LSTM_cf': {'author': 'KETI',\n",
       "  'modelName': 'ML_trainX_ActionPatternData_Split3_LSTM_cf',\n",
       "  'modelVersion': 0.1,\n",
       "  'trainDataInfo': {'startTime': '2022-01-01',\n",
       "   'endTime': '2022-01-01 08:10:04',\n",
       "   'dataInfo': {'windows': 1,\n",
       "    'dataSize': '235264',\n",
       "    'timeElapsed': '0:00:52.012849'},\n",
       "   'processParam': {'refine_param': {'removeDuplication': {'flag': False},\n",
       "     'staticFrequency': {'flag': False, 'frequency': None}},\n",
       "    'outlier_param': {'certainErrorToNaN': {'flag': False},\n",
       "     'unCertainErrorToNaN': {'flag': False, 'param': {}}},\n",
       "    'imputation_param': {'serialImputation': {'flag': False,\n",
       "      'imputation_method': [],\n",
       "      'totalNonNanRatio': 80}}},\n",
       "   'integration_freq_sec': 4,\n",
       "   'cleanParam': 'NoClean',\n",
       "   'DataSaveMode': 'CSV'},\n",
       "  'featureList': ['concat_emb1',\n",
       "   'concat_emb2',\n",
       "   'concat_emb3',\n",
       "   'concat_emb4',\n",
       "   'concat_emb5',\n",
       "   'concat_emb6',\n",
       "   'concat_emb7',\n",
       "   'concat_emb8',\n",
       "   'concat_emb9',\n",
       "   'concat_emb10',\n",
       "   'concat_emb11',\n",
       "   'concat_emb12',\n",
       "   'concat_emb13',\n",
       "   'concat_emb14',\n",
       "   'concat_emb15',\n",
       "   'concat_emb16',\n",
       "   'concat_emb17',\n",
       "   'concat_emb18',\n",
       "   'concat_emb19',\n",
       "   'concat_emb20',\n",
       "   'concat_emb21',\n",
       "   'concat_emb22',\n",
       "   'concat_emb23',\n",
       "   'concat_emb24',\n",
       "   'concat_emb25',\n",
       "   'concat_emb26',\n",
       "   'concat_emb27',\n",
       "   'concat_emb28',\n",
       "   'concat_emb29',\n",
       "   'concat_emb30',\n",
       "   'concat_emb31',\n",
       "   'concat_emb32'],\n",
       "  'target': ['value'],\n",
       "  'trainDataType': 'timeseries',\n",
       "  'modelPurpose': 'classification',\n",
       "  'model_method': 'LSTM_cf',\n",
       "  'modelTags': ['action',\n",
       "   'sensor',\n",
       "   'classification',\n",
       "   'pattern',\n",
       "   'ML_trainX_ActionPatternData_Split3',\n",
       "   'LSTM_cf'],\n",
       "  'cleanTrainDataParam': 'NoClean',\n",
       "  'NaNProcessingParam': {},\n",
       "  'trainDataName': ['ML_trainX_ActionPatternData_Split3',\n",
       "   'ML_trainy_ActionPatternData_Split3'],\n",
       "  'trainParameter': {'num_layers': 2,\n",
       "   'hidden_size': 64,\n",
       "   'dropout': 0.1,\n",
       "   'bidirectional': True,\n",
       "   'lr': 0.0001,\n",
       "   'device': 'cuda',\n",
       "   'num_classes': 6,\n",
       "   'input_size': 32,\n",
       "   'seq_len': 1,\n",
       "   'rnn_type': 'lstm'},\n",
       "  'scalerParam': 'scale',\n",
       "  'files': {'modelFile': {'fileName': 'model.pth',\n",
       "    'filePath': ['./Models\\\\LSTM_cf\\\\ML_trainX_ActionPatternData_Split3_LSTM_cf\\\\ML_trainX_ActionPatternData_Split3\\\\f2a36ead1ca2fef043aa1df6ee3786c1\\\\model.pt']},\n",
       "   'XScalerFile': {'fileName': 'scaler.pkl',\n",
       "    'filePath': './scaler/ML_trainX_ActionPatternData_Split3\\\\NoClean\\\\minmax\\\\4144431a8249ee214fed9f95d5cf8e1f\\\\scaler.pkl'},\n",
       "   'yScalerFile': {'fileName': 'scaler.pkl', 'filePath': None}},\n",
       "  'n_epochs': 100,\n",
       "  'timeElapsed': '0:00:24.466804'},\n",
       " 'ML_trainX_ActionPatternData_Split3_SMATE_cf': {'author': 'KETI',\n",
       "  'modelName': 'ML_trainX_ActionPatternData_Split3_SMATE_cf',\n",
       "  'modelVersion': 0.1,\n",
       "  'trainDataInfo': {'startTime': '2022-01-01',\n",
       "   'endTime': '2022-01-01 08:10:04',\n",
       "   'dataInfo': {'windows': 1,\n",
       "    'dataSize': '235264',\n",
       "    'timeElapsed': '0:00:52.012849'},\n",
       "   'processParam': {'refine_param': {'removeDuplication': {'flag': False},\n",
       "     'staticFrequency': {'flag': False, 'frequency': None}},\n",
       "    'outlier_param': {'certainErrorToNaN': {'flag': False},\n",
       "     'unCertainErrorToNaN': {'flag': False, 'param': {}}},\n",
       "    'imputation_param': {'serialImputation': {'flag': False,\n",
       "      'imputation_method': [],\n",
       "      'totalNonNanRatio': 80}}},\n",
       "   'integration_freq_sec': 4,\n",
       "   'cleanParam': 'NoClean',\n",
       "   'DataSaveMode': 'CSV'},\n",
       "  'featureList': ['concat_emb1',\n",
       "   'concat_emb2',\n",
       "   'concat_emb3',\n",
       "   'concat_emb4',\n",
       "   'concat_emb5',\n",
       "   'concat_emb6',\n",
       "   'concat_emb7',\n",
       "   'concat_emb8',\n",
       "   'concat_emb9',\n",
       "   'concat_emb10',\n",
       "   'concat_emb11',\n",
       "   'concat_emb12',\n",
       "   'concat_emb13',\n",
       "   'concat_emb14',\n",
       "   'concat_emb15',\n",
       "   'concat_emb16',\n",
       "   'concat_emb17',\n",
       "   'concat_emb18',\n",
       "   'concat_emb19',\n",
       "   'concat_emb20',\n",
       "   'concat_emb21',\n",
       "   'concat_emb22',\n",
       "   'concat_emb23',\n",
       "   'concat_emb24',\n",
       "   'concat_emb25',\n",
       "   'concat_emb26',\n",
       "   'concat_emb27',\n",
       "   'concat_emb28',\n",
       "   'concat_emb29',\n",
       "   'concat_emb30',\n",
       "   'concat_emb31',\n",
       "   'concat_emb32'],\n",
       "  'target': ['value'],\n",
       "  'trainDataType': 'timeseries',\n",
       "  'modelPurpose': 'classification',\n",
       "  'model_method': 'SMATE_cf',\n",
       "  'modelTags': ['action',\n",
       "   'sensor',\n",
       "   'classification',\n",
       "   'pattern',\n",
       "   'ML_trainX_ActionPatternData_Split3',\n",
       "   'SMATE_cf'],\n",
       "  'cleanTrainDataParam': 'NoClean',\n",
       "  'NaNProcessingParam': {},\n",
       "  'trainDataName': ['ML_trainX_ActionPatternData_Split3',\n",
       "   'ML_trainy_ActionPatternData_Split3'],\n",
       "  'trainParameter': {'num_seq': 128,\n",
       "   'input_size': 9,\n",
       "   'num_classes': 6,\n",
       "   'sup_ratio': 0.3,\n",
       "   'p_ratio': 0.1,\n",
       "   'd_prime_ratio': 1.0,\n",
       "   'kernels': [7, 5, 3],\n",
       "   'num_layers': 3,\n",
       "   'hidden_dim': 128,\n",
       "   'lr': 0.0001,\n",
       "   'device': 'cuda',\n",
       "   'model_name': 'SMATE_cf',\n",
       "   'seq_len': 128},\n",
       "  'scalerParam': 'scale',\n",
       "  'files': {'modelFile': {'fileName': 'model.pth',\n",
       "    'filePath': ['./Models\\\\SMATE_cf\\\\ML_trainX_ActionPatternData_Split3_SMATE_cf\\\\ML_trainX_ActionPatternData_Split3\\\\b3a81fee867334aeb15ada033b5ca3b4\\\\model.pt']},\n",
       "   'XScalerFile': {'fileName': 'scaler.pkl',\n",
       "    'filePath': './scaler/ML_trainX_ActionPatternData_Split3\\\\NoClean\\\\minmax\\\\4144431a8249ee214fed9f95d5cf8e1f\\\\scaler.pkl'},\n",
       "   'yScalerFile': {'fileName': 'scaler.pkl', 'filePath': None}},\n",
       "  'n_epochs': 150,\n",
       "  'timeElapsed': 805.8118410110474},\n",
       " 'ML_trainX_ActionPatternData_Split3_SemiTime_cf': {'author': 'KETI',\n",
       "  'modelName': 'ML_trainX_ActionPatternData_Split3_SemiTime_cf',\n",
       "  'modelVersion': 0.1,\n",
       "  'trainDataInfo': {'startTime': '2022-01-01',\n",
       "   'endTime': '2022-01-01 08:10:04',\n",
       "   'dataInfo': {'windows': 1,\n",
       "    'dataSize': '235264',\n",
       "    'timeElapsed': '0:00:52.012849'},\n",
       "   'processParam': {'refine_param': {'removeDuplication': {'flag': False},\n",
       "     'staticFrequency': {'flag': False, 'frequency': None}},\n",
       "    'outlier_param': {'certainErrorToNaN': {'flag': False},\n",
       "     'unCertainErrorToNaN': {'flag': False, 'param': {}}},\n",
       "    'imputation_param': {'serialImputation': {'flag': False,\n",
       "      'imputation_method': [],\n",
       "      'totalNonNanRatio': 80}}},\n",
       "   'integration_freq_sec': 4,\n",
       "   'cleanParam': 'NoClean',\n",
       "   'DataSaveMode': 'CSV'},\n",
       "  'featureList': ['concat_emb1',\n",
       "   'concat_emb2',\n",
       "   'concat_emb3',\n",
       "   'concat_emb4',\n",
       "   'concat_emb5',\n",
       "   'concat_emb6',\n",
       "   'concat_emb7',\n",
       "   'concat_emb8',\n",
       "   'concat_emb9',\n",
       "   'concat_emb10',\n",
       "   'concat_emb11',\n",
       "   'concat_emb12',\n",
       "   'concat_emb13',\n",
       "   'concat_emb14',\n",
       "   'concat_emb15',\n",
       "   'concat_emb16',\n",
       "   'concat_emb17',\n",
       "   'concat_emb18',\n",
       "   'concat_emb19',\n",
       "   'concat_emb20',\n",
       "   'concat_emb21',\n",
       "   'concat_emb22',\n",
       "   'concat_emb23',\n",
       "   'concat_emb24',\n",
       "   'concat_emb25',\n",
       "   'concat_emb26',\n",
       "   'concat_emb27',\n",
       "   'concat_emb28',\n",
       "   'concat_emb29',\n",
       "   'concat_emb30',\n",
       "   'concat_emb31',\n",
       "   'concat_emb32'],\n",
       "  'target': ['value'],\n",
       "  'trainDataType': 'timeseries',\n",
       "  'modelPurpose': 'classification',\n",
       "  'model_method': 'SemiTime_cf',\n",
       "  'modelTags': ['action',\n",
       "   'sensor',\n",
       "   'classification',\n",
       "   'pattern',\n",
       "   'ML_trainX_ActionPatternData_Split3',\n",
       "   'SemiTime_cf'],\n",
       "  'cleanTrainDataParam': 'NoClean',\n",
       "  'NaNProcessingParam': {},\n",
       "  'trainDataName': ['ML_trainX_ActionPatternData_Split3',\n",
       "   'ML_trainy_ActionPatternData_Split3'],\n",
       "  'trainParameter': {'input_size': 9,\n",
       "   'num_classes': 6,\n",
       "   'alpha': 0.5,\n",
       "   'feature_size': 64,\n",
       "   'lr': 0.0001,\n",
       "   'device': 'cuda',\n",
       "   'model_name': 'SemiTime_cf',\n",
       "   'seq_len': 128},\n",
       "  'scalerParam': 'scale',\n",
       "  'files': {'modelFile': {'fileName': 'model.pth',\n",
       "    'filePath': ['./Models\\\\SemiTime_cf\\\\ML_trainX_ActionPatternData_Split3_SemiTime_cf\\\\ML_trainX_ActionPatternData_Split3\\\\8fa1826d4e0bd7852c6729d540ede2c2\\\\model.pt']},\n",
       "   'XScalerFile': {'fileName': 'scaler.pkl',\n",
       "    'filePath': './scaler/ML_trainX_ActionPatternData_Split3\\\\NoClean\\\\minmax\\\\4144431a8249ee214fed9f95d5cf8e1f\\\\scaler.pkl'},\n",
       "   'yScalerFile': {'fileName': 'scaler.pkl', 'filePath': None}},\n",
       "  'n_epochs': 300,\n",
       "  'timeElapsed': 120.01656818389893}}"
      ]
     },
     "execution_count": 8,
     "metadata": {},
     "output_type": "execute_result"
    }
   ],
   "source": [
    "ModelMeta"
   ]
  },
  {
   "cell_type": "code",
   "execution_count": 9,
   "id": "5cba6022",
   "metadata": {},
   "outputs": [
    {
     "name": "stdout",
     "output_type": "stream",
     "text": [
      "(7352, 128, 9)\n",
      "(7352,)\n",
      "(2947, 128, 9)\n",
      "(2947,)\n"
     ]
    }
   ],
   "source": [
    "# 2. Testing\n",
    "# 2-1. Read Parameter and model information and Testing\n",
    "# load data 부분이 DataMeta를 통해 불러오지 않고, 간단히 raw 데이터를 불러서 getTestResult에 넣어주는 형식 으로 우선 변경\n",
    "\n",
    "folderAddress = './data/'\n",
    "model_list = [\"SemiTime_cf\", \"SMATE_cf\"]\n",
    "model_method = model_list[1]\n",
    "split_ratio = 0.2\n",
    "scaler_x_path = './scaler/HAR_temp_minmax_scaler_x_semi.pkl'\n",
    "train_x, train_y,test_x, test_y = setting.load_data(folderAddress, model_method)\n",
    "test_x, x_scaler = setting.get_test_data(test_x, scaler_x_path)"
   ]
  },
  {
   "cell_type": "code",
   "execution_count": 10,
   "id": "56abddac",
   "metadata": {},
   "outputs": [
    {
     "name": "stderr",
     "output_type": "stream",
     "text": [
      "c:\\Users\\korea\\anaconda3\\envs\\torch\\lib\\site-packages\\torch\\nn\\modules\\lazy.py:178: UserWarning: Lazy modules are a new feature under heavy development so changes to the API or functionality can happen at any moment.\n",
      "  warnings.warn('Lazy modules are a new feature under heavy development '\n"
     ]
    },
    {
     "name": "stdout",
     "output_type": "stream",
     "text": [
      "Start testing model: SMATE_cf\n"
     ]
    },
    {
     "name": "stderr",
     "output_type": "stream",
     "text": [
      "c:\\Users\\korea\\anaconda3\\envs\\torch\\lib\\site-packages\\sklearn\\svm\\_base.py:1225: ConvergenceWarning: Liblinear failed to converge, increase the number of iterations.\n",
      "  warnings.warn(\n"
     ]
    },
    {
     "name": "stdout",
     "output_type": "stream",
     "text": [
      "acc_svm :  0.5310485239226331  // acc_svm_linear :  0.5062775704105871\n",
      "Best performance :  0.5310485239226331\n"
     ]
    },
    {
     "name": "stderr",
     "output_type": "stream",
     "text": [
      "c:\\Users\\korea\\anaconda3\\envs\\torch\\lib\\site-packages\\sklearn\\metrics\\_classification.py:1334: UndefinedMetricWarning: Precision and F-score are ill-defined and being set to 0.0 in labels with no predicted samples. Use `zero_division` parameter to control this behavior.\n",
      "  _warn_prf(average, modifier, msg_start, len(result))\n",
      "c:\\Users\\korea\\anaconda3\\envs\\torch\\lib\\site-packages\\sklearn\\metrics\\_classification.py:1334: UndefinedMetricWarning: Precision and F-score are ill-defined and being set to 0.0 in labels with no predicted samples. Use `zero_division` parameter to control this behavior.\n",
      "  _warn_prf(average, modifier, msg_start, len(result))\n",
      "c:\\Users\\korea\\anaconda3\\envs\\torch\\lib\\site-packages\\sklearn\\metrics\\_classification.py:1334: UndefinedMetricWarning: Precision and F-score are ill-defined and being set to 0.0 in labels with no predicted samples. Use `zero_division` parameter to control this behavior.\n",
      "  _warn_prf(average, modifier, msg_start, len(result))\n",
      "c:\\Users\\korea\\anaconda3\\envs\\torch\\lib\\site-packages\\sklearn\\metrics\\_classification.py:1334: UndefinedMetricWarning: Precision and F-score are ill-defined and being set to 0.0 in labels with no predicted samples. Use `zero_division` parameter to control this behavior.\n",
      "  _warn_prf(average, modifier, msg_start, len(result))\n",
      "c:\\Users\\korea\\anaconda3\\envs\\torch\\lib\\site-packages\\sklearn\\metrics\\_classification.py:1334: UndefinedMetricWarning: Precision and F-score are ill-defined and being set to 0.0 in labels with no predicted samples. Use `zero_division` parameter to control this behavior.\n",
      "  _warn_prf(average, modifier, msg_start, len(result))\n",
      "c:\\Users\\korea\\anaconda3\\envs\\torch\\lib\\site-packages\\sklearn\\metrics\\_classification.py:1334: UndefinedMetricWarning: Precision and F-score are ill-defined and being set to 0.0 in labels with no predicted samples. Use `zero_division` parameter to control this behavior.\n",
      "  _warn_prf(average, modifier, msg_start, len(result))\n"
     ]
    }
   ],
   "source": [
    "# SMATE 알고리즘에서 train_x, train_y 필요\n",
    "df_result, result_metrics, acc, auroc = p4S.getTestResult(train_x, train_y, test_x, test_y, modelName, DataMeta, ModelMeta, dataFolderName, device, windows)\n",
    "# df_result, result_metrics, acc= p4C.getTestResult(dataName_X, dataName_y, modelName, DataMeta, ModelMeta, dataFolderName, device, windows)"
   ]
  },
  {
   "cell_type": "markdown",
   "id": "a764085d",
   "metadata": {},
   "source": []
  },
  {
   "cell_type": "code",
   "execution_count": 11,
   "id": "ba5546c7",
   "metadata": {},
   "outputs": [
    {
     "data": {
      "text/html": [
       "<div>\n",
       "<style scoped>\n",
       "    .dataframe tbody tr th:only-of-type {\n",
       "        vertical-align: middle;\n",
       "    }\n",
       "\n",
       "    .dataframe tbody tr th {\n",
       "        vertical-align: top;\n",
       "    }\n",
       "\n",
       "    .dataframe thead th {\n",
       "        text-align: right;\n",
       "    }\n",
       "</style>\n",
       "<table border=\"1\" class=\"dataframe\">\n",
       "  <thead>\n",
       "    <tr style=\"text-align: right;\">\n",
       "      <th></th>\n",
       "      <th>actual_value</th>\n",
       "      <th>predicted_value</th>\n",
       "      <th>prob0</th>\n",
       "      <th>prob1</th>\n",
       "      <th>prob2</th>\n",
       "      <th>prob3</th>\n",
       "      <th>prob4</th>\n",
       "      <th>prob5</th>\n",
       "    </tr>\n",
       "  </thead>\n",
       "  <tbody>\n",
       "    <tr>\n",
       "      <th>0</th>\n",
       "      <td>4.0</td>\n",
       "      <td>3.0</td>\n",
       "      <td>5.752100e-07</td>\n",
       "      <td>4.022980e-07</td>\n",
       "      <td>2.794383e-07</td>\n",
       "      <td>0.999898</td>\n",
       "      <td>9.942294e-07</td>\n",
       "      <td>0.000099</td>\n",
       "    </tr>\n",
       "    <tr>\n",
       "      <th>1</th>\n",
       "      <td>4.0</td>\n",
       "      <td>3.0</td>\n",
       "      <td>1.070441e-07</td>\n",
       "      <td>7.379815e-08</td>\n",
       "      <td>5.250481e-08</td>\n",
       "      <td>0.999932</td>\n",
       "      <td>2.679184e-07</td>\n",
       "      <td>0.000067</td>\n",
       "    </tr>\n",
       "    <tr>\n",
       "      <th>2</th>\n",
       "      <td>4.0</td>\n",
       "      <td>3.0</td>\n",
       "      <td>8.704147e-08</td>\n",
       "      <td>5.977488e-08</td>\n",
       "      <td>4.283906e-08</td>\n",
       "      <td>0.999936</td>\n",
       "      <td>2.372397e-07</td>\n",
       "      <td>0.000063</td>\n",
       "    </tr>\n",
       "    <tr>\n",
       "      <th>3</th>\n",
       "      <td>4.0</td>\n",
       "      <td>3.0</td>\n",
       "      <td>6.007650e-08</td>\n",
       "      <td>4.129480e-08</td>\n",
       "      <td>2.960682e-08</td>\n",
       "      <td>0.999943</td>\n",
       "      <td>1.945804e-07</td>\n",
       "      <td>0.000057</td>\n",
       "    </tr>\n",
       "    <tr>\n",
       "      <th>4</th>\n",
       "      <td>4.0</td>\n",
       "      <td>3.0</td>\n",
       "      <td>4.753795e-08</td>\n",
       "      <td>3.267827e-08</td>\n",
       "      <td>2.345845e-08</td>\n",
       "      <td>0.999944</td>\n",
       "      <td>1.746751e-07</td>\n",
       "      <td>0.000055</td>\n",
       "    </tr>\n",
       "    <tr>\n",
       "      <th>...</th>\n",
       "      <td>...</td>\n",
       "      <td>...</td>\n",
       "      <td>...</td>\n",
       "      <td>...</td>\n",
       "      <td>...</td>\n",
       "      <td>...</td>\n",
       "      <td>...</td>\n",
       "      <td>...</td>\n",
       "    </tr>\n",
       "    <tr>\n",
       "      <th>2942</th>\n",
       "      <td>1.0</td>\n",
       "      <td>0.0</td>\n",
       "      <td>5.240267e-01</td>\n",
       "      <td>4.663615e-01</td>\n",
       "      <td>7.822697e-03</td>\n",
       "      <td>0.000714</td>\n",
       "      <td>4.088469e-04</td>\n",
       "      <td>0.000666</td>\n",
       "    </tr>\n",
       "    <tr>\n",
       "      <th>2943</th>\n",
       "      <td>1.0</td>\n",
       "      <td>1.0</td>\n",
       "      <td>1.897840e-01</td>\n",
       "      <td>8.007919e-01</td>\n",
       "      <td>7.414093e-03</td>\n",
       "      <td>0.000705</td>\n",
       "      <td>4.889961e-04</td>\n",
       "      <td>0.000816</td>\n",
       "    </tr>\n",
       "    <tr>\n",
       "      <th>2944</th>\n",
       "      <td>1.0</td>\n",
       "      <td>1.0</td>\n",
       "      <td>1.936003e-01</td>\n",
       "      <td>8.021139e-01</td>\n",
       "      <td>1.818671e-03</td>\n",
       "      <td>0.001149</td>\n",
       "      <td>4.775276e-04</td>\n",
       "      <td>0.000841</td>\n",
       "    </tr>\n",
       "    <tr>\n",
       "      <th>2945</th>\n",
       "      <td>1.0</td>\n",
       "      <td>1.0</td>\n",
       "      <td>1.713619e-01</td>\n",
       "      <td>8.222600e-01</td>\n",
       "      <td>1.383086e-03</td>\n",
       "      <td>0.002401</td>\n",
       "      <td>1.159391e-03</td>\n",
       "      <td>0.001435</td>\n",
       "    </tr>\n",
       "    <tr>\n",
       "      <th>2946</th>\n",
       "      <td>1.0</td>\n",
       "      <td>1.0</td>\n",
       "      <td>1.379543e-01</td>\n",
       "      <td>8.555340e-01</td>\n",
       "      <td>3.437976e-03</td>\n",
       "      <td>0.001363</td>\n",
       "      <td>6.873719e-04</td>\n",
       "      <td>0.001023</td>\n",
       "    </tr>\n",
       "  </tbody>\n",
       "</table>\n",
       "<p>2947 rows × 8 columns</p>\n",
       "</div>"
      ],
      "text/plain": [
       "      actual_value  predicted_value         prob0         prob1         prob2  \\\n",
       "0              4.0              3.0  5.752100e-07  4.022980e-07  2.794383e-07   \n",
       "1              4.0              3.0  1.070441e-07  7.379815e-08  5.250481e-08   \n",
       "2              4.0              3.0  8.704147e-08  5.977488e-08  4.283906e-08   \n",
       "3              4.0              3.0  6.007650e-08  4.129480e-08  2.960682e-08   \n",
       "4              4.0              3.0  4.753795e-08  3.267827e-08  2.345845e-08   \n",
       "...            ...              ...           ...           ...           ...   \n",
       "2942           1.0              0.0  5.240267e-01  4.663615e-01  7.822697e-03   \n",
       "2943           1.0              1.0  1.897840e-01  8.007919e-01  7.414093e-03   \n",
       "2944           1.0              1.0  1.936003e-01  8.021139e-01  1.818671e-03   \n",
       "2945           1.0              1.0  1.713619e-01  8.222600e-01  1.383086e-03   \n",
       "2946           1.0              1.0  1.379543e-01  8.555340e-01  3.437976e-03   \n",
       "\n",
       "         prob3         prob4     prob5  \n",
       "0     0.999898  9.942294e-07  0.000099  \n",
       "1     0.999932  2.679184e-07  0.000067  \n",
       "2     0.999936  2.372397e-07  0.000063  \n",
       "3     0.999943  1.945804e-07  0.000057  \n",
       "4     0.999944  1.746751e-07  0.000055  \n",
       "...        ...           ...       ...  \n",
       "2942  0.000714  4.088469e-04  0.000666  \n",
       "2943  0.000705  4.889961e-04  0.000816  \n",
       "2944  0.001149  4.775276e-04  0.000841  \n",
       "2945  0.002401  1.159391e-03  0.001435  \n",
       "2946  0.001363  6.873719e-04  0.001023  \n",
       "\n",
       "[2947 rows x 8 columns]"
      ]
     },
     "execution_count": 11,
     "metadata": {},
     "output_type": "execute_result"
    }
   ],
   "source": [
    "df_result"
   ]
  },
  {
   "cell_type": "code",
   "execution_count": 12,
   "id": "222d1111",
   "metadata": {
    "ExecuteTime": {
     "end_time": "2022-09-06T07:56:01.499317Z",
     "start_time": "2022-09-06T07:56:00.788910Z"
    }
   },
   "outputs": [
    {
     "data": {
      "text/plain": [
       "{0.0, 1.0, 3.0, 5.0}"
      ]
     },
     "execution_count": 12,
     "metadata": {},
     "output_type": "execute_result"
    },
    {
     "data": {
      "image/png": "[encoded data removed]",
      "text/plain": [
       "<Figure size 432x288 with 1 Axes>"
      ]
     },
     "metadata": {
      "needs_background": "light"
     },
     "output_type": "display_data"
    }
   ],
   "source": [
    "# 2-2. Result\n",
    "df_result[['actual_value']].plot()\n",
    "set(df_result['predicted_value'].values)"
   ]
  },
  {
   "cell_type": "code",
   "execution_count": 13,
   "id": "cd5678a7",
   "metadata": {
    "ExecuteTime": {
     "end_time": "2022-09-06T07:56:03.430631Z",
     "start_time": "2022-09-06T07:56:03.421085Z"
    },
    "scrolled": true
   },
   "outputs": [
    {
     "data": {
      "text/plain": [
       "{'0.0': {'precision': 0.39575289575289574,\n",
       "  'recall': 0.41330645161290325,\n",
       "  'f1-score': 0.40433925049309666,\n",
       "  'support': 496},\n",
       " '1.0': {'precision': 0.38927738927738925,\n",
       "  'recall': 0.7091295116772823,\n",
       "  'f1-score': 0.5026335590669676,\n",
       "  'support': 471},\n",
       " '2.0': {'precision': 0.0, 'recall': 0.0, 'f1-score': 0.0, 'support': 420},\n",
       " '3.0': {'precision': 0.47292069632495165,\n",
       "  'recall': 0.9959266802443992,\n",
       "  'f1-score': 0.641311475409836,\n",
       "  'support': 491},\n",
       " '4.0': {'precision': 0.0, 'recall': 0.0, 'f1-score': 0.0, 'support': 532},\n",
       " '5.0': {'precision': 1.0, 'recall': 1.0, 'f1-score': 1.0, 'support': 537},\n",
       " 'accuracy': 0.5310485239226331,\n",
       " 'macro avg': {'precision': 0.37632516355920614,\n",
       "  'recall': 0.5197271072557642,\n",
       "  'f1-score': 0.42471404749498337,\n",
       "  'support': 2947},\n",
       " 'weighted avg': {'precision': 0.3898361549164024,\n",
       "  'recall': 0.5310485239226331,\n",
       "  'f1-score': 0.437453888358109,\n",
       "  'support': 2947}}"
      ]
     },
     "execution_count": 13,
     "metadata": {},
     "output_type": "execute_result"
    }
   ],
   "source": [
    "# 2-3. result_metrics 확인\n",
    "result_metrics"
   ]
  },
  {
   "cell_type": "code",
   "execution_count": 14,
   "id": "95129ba1",
   "metadata": {
    "ExecuteTime": {
     "end_time": "2022-09-06T07:56:07.928748Z",
     "start_time": "2022-09-06T07:56:07.919788Z"
    }
   },
   "outputs": [
    {
     "data": {
      "text/plain": [
       "0.5310485239226331"
      ]
     },
     "execution_count": 14,
     "metadata": {},
     "output_type": "execute_result"
    }
   ],
   "source": [
    "# 2-4. 정확도 확인\n",
    "acc"
   ]
  },
  {
   "cell_type": "code",
   "execution_count": null,
   "id": "4bf22946",
   "metadata": {},
   "outputs": [],
   "source": []
  },
  {
   "cell_type": "markdown",
   "id": "ad8e0849",
   "metadata": {},
   "source": [
    "## 3-3. Save Result"
   ]
  },
  {
   "cell_type": "code",
   "execution_count": 15,
   "id": "e786e9f6",
   "metadata": {},
   "outputs": [],
   "source": [
    "# 3. Save Result\n",
    "import json\n",
    "save_path = './modelResult'\n",
    "os.makedirs(save_path, exist_ok=True)\n",
    "\n",
    "with open('./modelResult/{}_result.json'.format(modelName),'w') as f:\n",
    "  json.dump(result_metrics, f, ensure_ascii=False, indent=4)"
   ]
  },
  {
   "cell_type": "code",
   "execution_count": null,
   "id": "c4cd55b0",
   "metadata": {},
   "outputs": [],
   "source": []
  }
 ],
 "metadata": {
  "hide_input": false,
  "kernelspec": {
   "display_name": "Python 3.9.12 ('torch')",
   "language": "python",
   "name": "python3"
  },
  "language_info": {
   "codemirror_mode": {
    "name": "ipython",
    "version": 3
   },
   "file_extension": ".py",
   "mimetype": "text/x-python",
   "name": "python",
   "nbconvert_exporter": "python",
   "pygments_lexer": "ipython3",
   "version": "3.9.12"
  },
  "toc": {
   "base_numbering": 1,
   "nav_menu": {},
   "number_sections": true,
   "sideBar": true,
   "skip_h1_title": false,
   "title_cell": "Table of Contents",
   "title_sidebar": "Contents",
   "toc_cell": true,
   "toc_position": {
    "height": "calc(100% - 180px)",
    "left": "10px",
    "top": "150px",
    "width": "174.188px"
   },
   "toc_section_display": true,
   "toc_window_display": true
  },
  "vscode": {
   "interpreter": {
    "hash": "706c2e6365fd0da88e422b1155d848ec1bd03fcf22a183bf2b65734d8441fcb5"
   }
  }
 },
 "nbformat": 4,
 "nbformat_minor": 5
}
