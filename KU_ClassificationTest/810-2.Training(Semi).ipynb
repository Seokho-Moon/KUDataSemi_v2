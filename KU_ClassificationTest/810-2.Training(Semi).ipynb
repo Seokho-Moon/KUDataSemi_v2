{
 "cells": [
  {
   "cell_type": "markdown",
   "id": "43276846",
   "metadata": {
    "toc": true
   },
   "source": [
    "<h1>Table of Contents<span class=\"tocSkip\"></span></h1>\n",
    "<div class=\"toc\"><ul class=\"toc-item\"><li><span><a href=\"#2.-Training\" data-toc-modified-id=\"2.-Training-1\"><span class=\"toc-item-num\">1&nbsp;&nbsp;</span>2. Training</a></span><ul class=\"toc-item\"><li><span><a href=\"#2-1.-Data-selection\" data-toc-modified-id=\"2-1.-Data-selection-1.1\"><span class=\"toc-item-num\">1.1&nbsp;&nbsp;</span>2-1. Data selection</a></span></li><li><span><a href=\"#2-2.-Training-Data-Preparation\" data-toc-modified-id=\"2-2.-Training-Data-Preparation-1.2\"><span class=\"toc-item-num\">1.2&nbsp;&nbsp;</span>2-2. Training Data Preparation</a></span></li><li><span><a href=\"#2-3.-Set-Training-Parameter\" data-toc-modified-id=\"2-3.-Set-Training-Parameter-1.3\"><span class=\"toc-item-num\">1.3&nbsp;&nbsp;</span>2-3. Set Training Parameter</a></span></li><li><span><a href=\"#2-4.-Training\" data-toc-modified-id=\"2-4.-Training-1.4\"><span class=\"toc-item-num\">1.4&nbsp;&nbsp;</span>2-4. Training</a></span></li><li><span><a href=\"#2-5.-Meta-Save\" data-toc-modified-id=\"2-5.-Meta-Save-1.5\"><span class=\"toc-item-num\">1.5&nbsp;&nbsp;</span>2-5. Meta Save</a></span></li></ul></li></ul></div>"
   ]
  },
  {
   "cell_type": "code",
   "execution_count": 1,
   "id": "95790ab5",
   "metadata": {
    "ExecuteTime": {
     "end_time": "2022-09-06T07:50:10.354869Z",
     "start_time": "2022-09-06T07:50:08.837152Z"
    }
   },
   "outputs": [
    {
     "name": "stdout",
     "output_type": "stream",
     "text": [
      "cuda is available.\n"
     ]
    },
    {
     "name": "stderr",
     "output_type": "stream",
     "text": [
      "c:\\Users\\korea\\anaconda3\\envs\\torch\\lib\\site-packages\\tqdm\\auto.py:22: TqdmWarning: IProgress not found. Please update jupyter and ipywidgets. See https://ipywidgets.readthedocs.io/en/stable/user_install.html\n",
      "  from .autonotebook import tqdm as notebook_tqdm\n"
     ]
    }
   ],
   "source": [
    "import sys, os\n",
    "import pandas as pd\n",
    "import numpy as np\n",
    "import setting\n",
    "import pathSetting\n",
    "sys.path.append(\"../../..\")\n",
    "\n",
    "from KETIToolDL.CLUSTTool.common import p1_integratedDataSaving as p1\n",
    "from KETIToolDL.CLUSTTool.common import p2_dataSelection as p2\n",
    "from KETIToolDL.CLUSTTool.common import p3_training as p3\n",
    "\n",
    "import torch\n",
    "import pickle\n",
    "from sklearn.model_selection import train_test_split\n",
    "from sklearn.preprocessing import MinMaxScaler\n",
    "\n",
    "device = \"cuda\" if torch.cuda.is_available() else \"cpu\"\n",
    "print(f\"{device}\" \" is available.\")"
   ]
  },
  {
   "cell_type": "markdown",
   "id": "0fcf28a6",
   "metadata": {},
   "source": [
    "# 2. Training \n",
    "\n",
    "## 2-1. Data selection"
   ]
  },
  {
   "cell_type": "code",
   "execution_count": 2,
   "id": "7a0b7a99",
   "metadata": {
    "ExecuteTime": {
     "end_time": "2022-09-06T07:50:10.359091Z",
     "start_time": "2022-09-06T07:50:10.356369Z"
    }
   },
   "outputs": [],
   "source": [
    "# 1. Train Data\n",
    "# 1-1. 저장 Data 확인\n",
    "DataMeta = p1.readJsonData(pathSetting.DataMetaPath)\n",
    "dataList =  list(DataMeta.keys())"
   ]
  },
  {
   "cell_type": "code",
   "execution_count": 3,
   "id": "9f5779d7",
   "metadata": {
    "ExecuteTime": {
     "end_time": "2022-09-06T07:50:10.540544Z",
     "start_time": "2022-09-06T07:50:10.520066Z"
    }
   },
   "outputs": [
    {
     "data": {
      "text/plain": [
       "['ML_testX_ActionPatternData_Split3',\n",
       " 'ML_testy_ActionPatternData_Split3',\n",
       " 'ML_trainX_ActionPatternData_Split3',\n",
       " 'ML_trainy_ActionPatternData_Split3',\n",
       " 'trainX_ActionPatternData_Split3',\n",
       " 'trainy_ActionPatternData_SplitNone',\n",
       " 'testX_ActionPatternData_Split3',\n",
       " 'testy_ActionPatternData_SplitNone']"
      ]
     },
     "execution_count": 3,
     "metadata": {},
     "output_type": "execute_result"
    }
   ],
   "source": [
    "dataList"
   ]
  },
  {
   "cell_type": "code",
   "execution_count": 4,
   "id": "5fb1424e",
   "metadata": {
    "ExecuteTime": {
     "end_time": "2022-09-06T07:12:58.411294Z",
     "start_time": "2022-09-06T07:12:58.401859Z"
    }
   },
   "outputs": [
    {
     "data": {
      "text/plain": [
       "('ML_trainX_ActionPatternData_Split3', 'ML_trainy_ActionPatternData_Split3')"
      ]
     },
     "execution_count": 4,
     "metadata": {},
     "output_type": "execute_result"
    }
   ],
   "source": [
    "dataList[2], dataList[3]"
   ]
  },
  {
   "cell_type": "code",
   "execution_count": 5,
   "id": "30933580",
   "metadata": {
    "ExecuteTime": {
     "end_time": "2022-09-06T07:50:20.737339Z",
     "start_time": "2022-09-06T07:50:15.573675Z"
    }
   },
   "outputs": [],
   "source": [
    "# 1-2. Select Train Data\n",
    "## dataX\n",
    "dataName_X = dataList[2]\n",
    "dataSaveMode_X = DataMeta[dataName_X][\"integrationInfo\"][\"DataSaveMode\"]\n",
    "windows = DataMeta[dataName_X][\"integrationInfo\"][\"dataInfo\"][\"windows\"]\n",
    "\n",
    "## datay\n",
    "dataName_y = dataList[3]\n",
    "dataSaveMode_y = DataMeta[dataName_y][\"integrationInfo\"][\"DataSaveMode\"]"
   ]
  },
  {
   "cell_type": "code",
   "execution_count": 6,
   "id": "1a1c06a5",
   "metadata": {
    "ExecuteTime": {
     "end_time": "2022-09-06T07:50:20.737339Z",
     "start_time": "2022-09-06T07:50:15.573675Z"
    }
   },
   "outputs": [],
   "source": [
    "# 1-3. Read Train Data\n",
    "## CSV 로 Local 에 데이터 저장되어 있을 경우\n",
    "dataFolderName = \"data_integrated_result\"\n",
    "current = os.getcwd()\n",
    "dataFolderPath = os.path.join(current, dataFolderName)\n",
    "\n",
    "dataX = p2.getSavedIntegratedData(dataSaveMode_X, dataName_X, dataFolderPath)\n",
    "datay = p2.getSavedIntegratedData(dataSaveMode_y, dataName_y, dataFolderPath)\n",
    "integration_freq_sec = DataMeta[dataName_X][\"integrationInfo\"][\"integration_freq_sec\"]"
   ]
  },
  {
   "cell_type": "code",
   "execution_count": 7,
   "id": "0b4e783a",
   "metadata": {},
   "outputs": [
    {
     "name": "stdout",
     "output_type": "stream",
     "text": [
      "(7352, 32)\n",
      "(7352, 1)\n"
     ]
    }
   ],
   "source": [
    "print(dataX.shape)\n",
    "print(datay.shape)"
   ]
  },
  {
   "cell_type": "code",
   "execution_count": 8,
   "id": "ffc03130",
   "metadata": {},
   "outputs": [],
   "source": [
    "## MSH\n",
    "# UCI HAR Data Read\n",
    "# folderAddress = './data/'\n",
    "# model_list = [\"LSTM_cf\",\"GRU_cf\", \"CNN_1D_cf\",\"LSTM_FCNs_cf\"]\n",
    "# model_name = model_list[2]\n",
    "\n",
    "# dataX, datay, _, _ = setting.getTrainDataFromFilesForClassification(folderAddress, model_name)"
   ]
  },
  {
   "cell_type": "markdown",
   "id": "d6e052db",
   "metadata": {},
   "source": [
    "## 2-2. Training Data Preparation"
   ]
  },
  {
   "cell_type": "code",
   "execution_count": 9,
   "id": "11b755d3",
   "metadata": {
    "ExecuteTime": {
     "end_time": "2022-09-06T07:50:49.452976Z",
     "start_time": "2022-09-06T07:50:48.361234Z"
    },
    "scrolled": true
   },
   "outputs": [
    {
     "name": "stdout",
     "output_type": "stream",
     "text": [
      "['concat_emb1', 'concat_emb2', 'concat_emb3', 'concat_emb4', 'concat_emb5', 'concat_emb6', 'concat_emb7', 'concat_emb8', 'concat_emb9', 'concat_emb10', 'concat_emb11', 'concat_emb12', 'concat_emb13', 'concat_emb14', 'concat_emb15', 'concat_emb16', 'concat_emb17', 'concat_emb18', 'concat_emb19', 'concat_emb20', 'concat_emb21', 'concat_emb22', 'concat_emb23', 'concat_emb24', 'concat_emb25', 'concat_emb26', 'concat_emb27', 'concat_emb28', 'concat_emb29', 'concat_emb30', 'concat_emb31', 'concat_emb32']\n",
      "Make New scaler File\n"
     ]
    }
   ],
   "source": [
    "# 2. Training Data Preparation\n",
    "# 2-1.\n",
    "featureListX= list(dataX.columns)\n",
    "featureListy= list(datay.columns)\n",
    "target_col = 'value'\n",
    "\n",
    "# 2-2.\n",
    "cleanTrainDataParam = 'NoClean'#  Classification, Regression과 같이 X, y가 분리된 경우에는 현재 고정해서 사용해야함\n",
    "\n",
    "# 2-3.\n",
    "scalerParam=\"scale\"\n",
    "splitRatio = 0.8\n",
    "scaleMethod='minmax'\n",
    "modeX = 'windows_split'\n",
    "\n",
    "scalerRootPath_X = os.path.join(pathSetting.scalerRootDir, dataName_X, cleanTrainDataParam)\n",
    "scalerRootPath_y = None\n",
    "\n",
    "# split train data into train/valiation data\n",
    "# normalization\n",
    "trainvalX, X_scalerFilePath = p3.getScaledData(scalerParam, scalerRootPath_X, dataX, scaleMethod)\n",
    "\n",
    "# train data를 랜덤으로 test_size=split_ratio에 대하여 train/validation set으로 분할\n",
    "split_ratio = 0.2\n",
    "train_x, val_x, train_y, val_y = train_test_split(trainvalX, datay, test_size=split_ratio, shuffle=True)\n",
    "\n",
    "\n",
    "\n",
    "# 2-4. Scale & Split Train/Validation\n",
    "#scalerRootPath_X = os.path.join(pathSetting.scalerRootDir, dataName_X, cleanTrainDataParam)\n",
    "#scalerRootPath_y = os.path.join(pathSetting.scalerRootDir, dataName_X, cleanTrainDataParam)\n",
    "#train_x, val_x, X_scalerFilePath = p3.getTrainValData(dataX, featureListX, scalerRootPath_X, splitRatio, scalerParam, scaleMethod, modeX, windows)\n",
    "#train_y, val_y, y_scalerFilePath = p3.getTrainValData(datay, featureListy, scalerRootPath_y, splitRatio, \"NoScale\")"
   ]
  },
  {
   "cell_type": "markdown",
   "id": "85e05807",
   "metadata": {},
   "source": [
    "### 2-2.1 Data Preparation (기존 module 거의 안씀, 기존꺼는 (n_samples, dims) 식으로 요약 DL 기준) # 22/10/24 추가"
   ]
  },
  {
   "cell_type": "code",
   "execution_count": 10,
   "id": "7a51b95e",
   "metadata": {},
   "outputs": [
    {
     "name": "stdout",
     "output_type": "stream",
     "text": [
      "(7352, 128, 9)\n",
      "(7352,)\n",
      "(2947, 128, 9)\n",
      "(2947,)\n",
      "Save MinMaxScaler in path: ./scaler/HAR_temp_minmax_scaler_x_semi.pkl\n"
     ]
    }
   ],
   "source": [
    "# UCI HAR Data Read\n",
    "# 원래 아래부분도 from KETIToolDL.CLUSTTool.common import p3_training as p3 등에 녹아있어야 하나, p1이 아직 완전한 형태가 아니어서 일단은 분리해서 사용\n",
    "folderAddress = './data/'\n",
    "model_list = [\"SemiTime_cf\", \"SMATE_cf\"]\n",
    "model_method = model_list[1]\n",
    "split_ratio = 0.2\n",
    "scaler_x_path = './scaler/HAR_temp_minmax_scaler_x_semi.pkl'\n",
    "train_x, train_y,test_x, test_y = setting.load_data(folderAddress, model_method)\n",
    "\n",
    "if model_method == 'SemiTime_cf':\n",
    "    # split labeled data/unlabeled data in train_x\n",
    "    train_labeled_x, train_labeled_y, train_unlabeled_x = setting.labeled_unlabeled_split(train_x, train_y)\n",
    "    train_labeled_x, valid_x, train_labeled_y, valid_y = train_test_split(train_labeled_x, train_labeled_y, test_size=split_ratio, shuffle=True)\n",
    "    # normalization\n",
    "    train_labeled_x, train_unlabeled_x, valid_x = setting.get_train_val_data([train_labeled_x, train_unlabeled_x, valid_x], scaler_x_path)\n",
    "    train_labeled_x, train_labeled_y, train_unlabeled_x, valid_x, valid_y\n",
    "    data_dict = {'train_labeled_x': train_labeled_x,\n",
    "                 'train_labeled_y' : train_labeled_y,\n",
    "                 'train_unlabeled_x': train_unlabeled_x,\n",
    "                 'val_x': valid_x,\n",
    "                 'val_y': valid_y}\n",
    "elif model_method == 'SMATE_cf':\n",
    "    train_x, valid_x, train_y, valid_y = train_test_split(train_x, train_y, test_size=split_ratio, shuffle=True)\n",
    "    train_x, valid_x = setting.get_train_val_data([train_x, valid_x], scaler_x_path)\n",
    "    data_dict = {'train_x': train_x,\n",
    "                 'train_y' : train_y,\n",
    "                 'val_x': valid_x,\n",
    "                 'val_y': valid_y}\n",
    "else:\n",
    "    print('Choose the model correctly')\n"
   ]
  },
  {
   "cell_type": "markdown",
   "id": "ff6b9d01",
   "metadata": {},
   "source": [
    "## 2-3. Set Training Parameter"
   ]
  },
  {
   "cell_type": "code",
   "execution_count": 11,
   "id": "c5efc1a4",
   "metadata": {
    "ExecuteTime": {
     "end_time": "2022-09-06T07:51:04.473941Z",
     "start_time": "2022-09-06T07:51:04.462059Z"
    }
   },
   "outputs": [],
   "source": [
    "# 3. Set Training Parameter\n",
    "# 3-1.\n",
    "model_list = [\"SemiTime_cf\",\"SMATE_cf\"]\n",
    "model_method = model_list[1]\n",
    "\n",
    "n_epochs = 150 # 학습 epoch 횟수, int(default: 1000, 범위: 1 이상)\n",
    "batch_size = 256  # batch 크기, int(default: 16, 범위: 1 이상, 컴퓨터 사양에 적합하게 설정)\n",
    "num_classes = 6 # class 개수\n",
    "\n",
    "trainParameter = setting.modelConfig[model_method]\n",
    "trainParameter['device']  = device\n",
    "trainParameter['num_classes'] = num_classes\n",
    "\n",
    "modelTags =[\"action\", \"sensor\", \"classification\", \"pattern\", dataName_X, model_method]\n",
    "trainDataType = \"timeseries\"\n",
    "modelPurpose = \"classification\"\n",
    "\n",
    "trainDataInfo = DataMeta[dataName_X]['integrationInfo']\n",
    "\n",
    "# 3-2. 모델을 저장할 파일 패스를 생성\n",
    "from KETIPreDataTransformation.general_transformation.dataScaler import encodeHashStyle\n",
    "trainParameter_encode =  encodeHashStyle(str(trainParameter))\n",
    "\n",
    "# 현재는 HAR_raw 데이터를 사용하므로 원래는 변경해야 하나 module 구조상 그대로 둠 \n",
    "# 엄밀히 하면 DataMeta에 scaler 등 모든 값을 수정해야 하나, 최종 module이나 data preparation 단계가 확정이 안되었으므로 그대로 둠\n",
    "ModelName = dataName_X+\"_\"+model_method\n",
    "\n",
    "trainDataPathList = [ModelName, dataName_X, trainParameter_encode]\n",
    "modelFilePath = p3.getModelFilePath(trainDataPathList, model_method)\n"
   ]
  },
  {
   "cell_type": "code",
   "execution_count": 12,
   "id": "4b305d74",
   "metadata": {},
   "outputs": [
    {
     "data": {
      "text/plain": [
       "['./Models\\\\SMATE_cf\\\\ML_trainX_ActionPatternData_Split3_SMATE_cf\\\\ML_trainX_ActionPatternData_Split3\\\\b3a81fee867334aeb15ada033b5ca3b4\\\\model.pt']"
      ]
     },
     "execution_count": 12,
     "metadata": {},
     "output_type": "execute_result"
    }
   ],
   "source": [
    "modelFilePath"
   ]
  },
  {
   "cell_type": "code",
   "execution_count": 13,
   "id": "bdfad5b5",
   "metadata": {
    "ExecuteTime": {
     "end_time": "2022-09-06T07:51:05.705219Z",
     "start_time": "2022-09-06T07:51:05.692222Z"
    }
   },
   "outputs": [
    {
     "data": {
      "text/plain": [
       "{'num_seq': 128,\n",
       " 'input_size': 9,\n",
       " 'num_classes': 6,\n",
       " 'sup_ratio': 0.3,\n",
       " 'p_ratio': 0.1,\n",
       " 'd_prime_ratio': 1.0,\n",
       " 'kernels': [7, 5, 3],\n",
       " 'num_layers': 3,\n",
       " 'hidden_dim': 128,\n",
       " 'lr': 0.0001,\n",
       " 'device': 'cuda'}"
      ]
     },
     "execution_count": 13,
     "metadata": {},
     "output_type": "execute_result"
    }
   ],
   "source": [
    "trainParameter"
   ]
  },
  {
   "cell_type": "code",
   "execution_count": 14,
   "id": "b3ca350a",
   "metadata": {},
   "outputs": [
    {
     "data": {
      "text/plain": [
       "'ML_trainX_ActionPatternData_Split3_SMATE_cf'"
      ]
     },
     "execution_count": 14,
     "metadata": {},
     "output_type": "execute_result"
    }
   ],
   "source": [
    "ModelName"
   ]
  },
  {
   "cell_type": "markdown",
   "id": "a8a32695",
   "metadata": {},
   "source": [
    "## 2-4. Training"
   ]
  },
  {
   "cell_type": "code",
   "execution_count": 15,
   "id": "43fd7e96",
   "metadata": {},
   "outputs": [
    {
     "name": "stderr",
     "output_type": "stream",
     "text": [
      "c:\\Users\\korea\\anaconda3\\envs\\torch\\lib\\site-packages\\torch\\nn\\modules\\lazy.py:178: UserWarning: Lazy modules are a new feature under heavy development so changes to the API or functionality can happen at any moment.\n",
      "  warnings.warn('Lazy modules are a new feature under heavy development '\n"
     ]
    },
    {
     "name": "stdout",
     "output_type": "stream",
     "text": [
      "Start training model\n",
      "\n",
      "Epoch 1/150\n",
      "train Loss: 0.2564\n",
      "val Loss: 0.2277\n",
      "\n",
      "Epoch 10/150\n",
      "train Loss: 0.0999\n",
      "val Loss: 0.5009\n",
      "\n",
      "Epoch 20/150\n",
      "train Loss: 0.0410\n",
      "val Loss: 0.5455\n",
      "\n",
      "Epoch 30/150\n",
      "train Loss: 0.0304\n",
      "val Loss: 0.0322\n",
      "\n",
      "Epoch 40/150\n",
      "train Loss: 0.0287\n",
      "val Loss: 0.0333\n",
      "\n",
      "Epoch 50/150\n",
      "train Loss: 0.0281\n",
      "val Loss: 0.0411\n",
      "\n",
      "Epoch 60/150\n",
      "train Loss: 0.0278\n",
      "val Loss: 0.1088\n",
      "\n",
      "Epoch 70/150\n",
      "train Loss: 0.0273\n",
      "val Loss: 0.0534\n",
      "\n",
      "Epoch 80/150\n",
      "train Loss: 0.0268\n",
      "val Loss: 0.0833\n",
      "\n",
      "Epoch 90/150\n",
      "train Loss: 0.0261\n",
      "val Loss: 0.3997\n",
      "\n",
      "Epoch 100/150\n",
      "train Loss: 0.0256\n",
      "val Loss: 0.4106\n",
      "\n",
      "Epoch 110/150\n",
      "train Loss: 0.0250\n",
      "val Loss: 0.3055\n",
      "\n",
      "Epoch 120/150\n",
      "train Loss: 0.0245\n",
      "val Loss: 0.2533\n",
      "\n",
      "Epoch 130/150\n",
      "train Loss: 0.0241\n",
      "val Loss: 0.1634\n",
      "\n",
      "Epoch 140/150\n",
      "train Loss: 0.0237\n",
      "val Loss: 0.0762\n",
      "\n",
      "Epoch 150/150\n",
      "train Loss: 0.0236\n",
      "val Loss: 0.0448\n",
      "\n",
      "Training complete in 13m 26s\n",
      "Best val loss: 0.031111\n"
     ]
    }
   ],
   "source": [
    "# 4. Training\n",
    "from KETIToolDL.TrainTool.Semi.trainer import ClassificationML as CML\n",
    "\n",
    "cml = CML(model_method, trainParameter)\n",
    "cml.processInputData(data_dict, batch_size, windows) #labeled, unlabeled 는 따로 처리 \n",
    "# cml.processInputData(train_x, train_y, val_x, val_y, batch_size, windows) -> 나중에는 여기 넣도록 다시 수정 가능\n",
    "model = cml.getModel()\n",
    "best_model, timeElapsed = cml.trainModel(model, modelFilePath, n_epochs)"
   ]
  },
  {
   "cell_type": "code",
   "execution_count": null,
   "id": "fe7de264",
   "metadata": {},
   "outputs": [],
   "source": []
  },
  {
   "cell_type": "markdown",
   "id": "1f7fc982",
   "metadata": {},
   "source": [
    "## 2-5. Meta Save"
   ]
  },
  {
   "cell_type": "code",
   "execution_count": 16,
   "id": "f71dd8af",
   "metadata": {},
   "outputs": [
    {
     "data": {
      "text/plain": [
       "'ML_trainX_ActionPatternData_Split3_SMATE_cf'"
      ]
     },
     "execution_count": 16,
     "metadata": {},
     "output_type": "execute_result"
    }
   ],
   "source": [
    "# 5. Meta Save\n",
    "# 5-1. model name 확인\n",
    "ModelName"
   ]
  },
  {
   "cell_type": "code",
   "execution_count": 17,
   "id": "8bca73fb",
   "metadata": {
    "ExecuteTime": {
     "end_time": "2022-09-06T07:54:43.190148Z",
     "start_time": "2022-09-06T07:54:43.171160Z"
    }
   },
   "outputs": [],
   "source": [
    "# 5-2. update MetaFile\n",
    "modelInfoMeta ={\n",
    "    \"author\":\"KETI\",\n",
    "    \"modelName\": ModelName,\n",
    "    \"modelVersion\":0.1,\n",
    "    \"trainDataInfo\":trainDataInfo,\n",
    "    \"featureList\":featureListX,\n",
    "    \"target\":featureListy,\n",
    "    \"trainDataType\":trainDataType,\n",
    "    \"modelPurpose\":modelPurpose,\n",
    "    \"model_method\":model_method,\n",
    "    \"modelTags\":modelTags,\n",
    "    \"cleanTrainDataParam\":cleanTrainDataParam,\n",
    "    \"NaNProcessingParam\":{},\n",
    "    \"trainDataName\":[dataName_X,dataName_y],\n",
    "    \"trainParameter\":cml.parameter,\n",
    "    \"scalerParam\":scalerParam,\n",
    "    \"files\":{\n",
    "        \"modelFile\":{\n",
    "            \"fileName\":\"model.pth\",\n",
    "            \"filePath\":modelFilePath\n",
    "        },\n",
    "        \"XScalerFile\":{\n",
    "            \"fileName\":\"scaler.pkl\",\n",
    "            \"filePath\":X_scalerFilePath       \n",
    "        },\n",
    "        \"yScalerFile\":{\n",
    "            \"fileName\":\"scaler.pkl\",\n",
    "            \"filePath\":scalerRootPath_y       \n",
    "        }\n",
    "    },\n",
    "    \"trainParameter\":trainParameter,\n",
    "    \"n_epochs\":n_epochs,\n",
    "    \"timeElapsed\" : timeElapsed\n",
    "}\n",
    "modelInfoMeta = p3.updateModelMetaData(ModelName, modelInfoMeta, pathSetting.trainModelMetaFilePath)"
   ]
  },
  {
   "cell_type": "code",
   "execution_count": 18,
   "id": "e1244192",
   "metadata": {
    "ExecuteTime": {
     "end_time": "2022-09-05T08:50:16.739554Z",
     "start_time": "2022-09-05T08:50:16.735020Z"
    },
    "scrolled": true
   },
   "outputs": [
    {
     "data": {
      "text/plain": [
       "{'author': 'KETI',\n",
       " 'modelName': 'ML_trainX_ActionPatternData_Split3_SMATE_cf',\n",
       " 'modelVersion': 0.1,\n",
       " 'trainDataInfo': {'startTime': '2022-01-01',\n",
       "  'endTime': '2022-01-01 08:10:04',\n",
       "  'dataInfo': {'windows': 1,\n",
       "   'dataSize': '235264',\n",
       "   'timeElapsed': '0:00:52.012849'},\n",
       "  'processParam': {'refine_param': {'removeDuplication': {'flag': False},\n",
       "    'staticFrequency': {'flag': False, 'frequency': None}},\n",
       "   'outlier_param': {'certainErrorToNaN': {'flag': False},\n",
       "    'unCertainErrorToNaN': {'flag': False, 'param': {}}},\n",
       "   'imputation_param': {'serialImputation': {'flag': False,\n",
       "     'imputation_method': [],\n",
       "     'totalNonNanRatio': 80}}},\n",
       "  'integration_freq_sec': 4,\n",
       "  'cleanParam': 'NoClean',\n",
       "  'DataSaveMode': 'CSV'},\n",
       " 'featureList': ['concat_emb1',\n",
       "  'concat_emb2',\n",
       "  'concat_emb3',\n",
       "  'concat_emb4',\n",
       "  'concat_emb5',\n",
       "  'concat_emb6',\n",
       "  'concat_emb7',\n",
       "  'concat_emb8',\n",
       "  'concat_emb9',\n",
       "  'concat_emb10',\n",
       "  'concat_emb11',\n",
       "  'concat_emb12',\n",
       "  'concat_emb13',\n",
       "  'concat_emb14',\n",
       "  'concat_emb15',\n",
       "  'concat_emb16',\n",
       "  'concat_emb17',\n",
       "  'concat_emb18',\n",
       "  'concat_emb19',\n",
       "  'concat_emb20',\n",
       "  'concat_emb21',\n",
       "  'concat_emb22',\n",
       "  'concat_emb23',\n",
       "  'concat_emb24',\n",
       "  'concat_emb25',\n",
       "  'concat_emb26',\n",
       "  'concat_emb27',\n",
       "  'concat_emb28',\n",
       "  'concat_emb29',\n",
       "  'concat_emb30',\n",
       "  'concat_emb31',\n",
       "  'concat_emb32'],\n",
       " 'target': ['value'],\n",
       " 'trainDataType': 'timeseries',\n",
       " 'modelPurpose': 'classification',\n",
       " 'model_method': 'SMATE_cf',\n",
       " 'modelTags': ['action',\n",
       "  'sensor',\n",
       "  'classification',\n",
       "  'pattern',\n",
       "  'ML_trainX_ActionPatternData_Split3',\n",
       "  'SMATE_cf'],\n",
       " 'cleanTrainDataParam': 'NoClean',\n",
       " 'NaNProcessingParam': {},\n",
       " 'trainDataName': ['ML_trainX_ActionPatternData_Split3',\n",
       "  'ML_trainy_ActionPatternData_Split3'],\n",
       " 'trainParameter': {'num_seq': 128,\n",
       "  'input_size': 9,\n",
       "  'num_classes': 6,\n",
       "  'sup_ratio': 0.3,\n",
       "  'p_ratio': 0.1,\n",
       "  'd_prime_ratio': 1.0,\n",
       "  'kernels': [7, 5, 3],\n",
       "  'num_layers': 3,\n",
       "  'hidden_dim': 128,\n",
       "  'lr': 0.0001,\n",
       "  'device': 'cuda',\n",
       "  'model_name': 'SMATE_cf',\n",
       "  'seq_len': 128},\n",
       " 'scalerParam': 'scale',\n",
       " 'files': {'modelFile': {'fileName': 'model.pth',\n",
       "   'filePath': ['./Models\\\\SMATE_cf\\\\ML_trainX_ActionPatternData_Split3_SMATE_cf\\\\ML_trainX_ActionPatternData_Split3\\\\b3a81fee867334aeb15ada033b5ca3b4\\\\model.pt']},\n",
       "  'XScalerFile': {'fileName': 'scaler.pkl',\n",
       "   'filePath': './scaler/ML_trainX_ActionPatternData_Split3\\\\NoClean\\\\minmax\\\\4144431a8249ee214fed9f95d5cf8e1f\\\\scaler.pkl'},\n",
       "  'yScalerFile': {'fileName': 'scaler.pkl', 'filePath': None}},\n",
       " 'n_epochs': 150,\n",
       " 'timeElapsed': 805.8118410110474}"
      ]
     },
     "execution_count": 18,
     "metadata": {},
     "output_type": "execute_result"
    }
   ],
   "source": [
    "modelInfoMeta"
   ]
  },
  {
   "cell_type": "code",
   "execution_count": null,
   "id": "7849be61",
   "metadata": {},
   "outputs": [],
   "source": []
  },
  {
   "cell_type": "code",
   "execution_count": null,
   "id": "278fc651",
   "metadata": {},
   "outputs": [],
   "source": []
  },
  {
   "cell_type": "code",
   "execution_count": null,
   "id": "4a3855d0",
   "metadata": {},
   "outputs": [],
   "source": []
  }
 ],
 "metadata": {
  "hide_input": false,
  "kernelspec": {
   "display_name": "Python 3.9.12 ('torch')",
   "language": "python",
   "name": "python3"
  },
  "language_info": {
   "codemirror_mode": {
    "name": "ipython",
    "version": 3
   },
   "file_extension": ".py",
   "mimetype": "text/x-python",
   "name": "python",
   "nbconvert_exporter": "python",
   "pygments_lexer": "ipython3",
   "version": "3.9.12"
  },
  "toc": {
   "base_numbering": 1,
   "nav_menu": {},
   "number_sections": true,
   "sideBar": true,
   "skip_h1_title": false,
   "title_cell": "Table of Contents",
   "title_sidebar": "Contents",
   "toc_cell": true,
   "toc_position": {
    "height": "calc(100% - 180px)",
    "left": "10px",
    "top": "150px",
    "width": "224.188px"
   },
   "toc_section_display": true,
   "toc_window_display": true
  },
  "vscode": {
   "interpreter": {
    "hash": "706c2e6365fd0da88e422b1155d848ec1bd03fcf22a183bf2b65734d8441fcb5"
   }
  }
 },
 "nbformat": 4,
 "nbformat_minor": 5
}
